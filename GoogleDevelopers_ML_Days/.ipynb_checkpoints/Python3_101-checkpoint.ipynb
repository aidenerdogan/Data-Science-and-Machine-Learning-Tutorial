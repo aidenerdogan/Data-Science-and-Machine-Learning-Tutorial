{
 "cells": [
  {
   "cell_type": "markdown",
   "metadata": {
    "colab_type": "text",
    "id": "xBq8uEszJkqw"
   },
   "source": [
    "# Python 101"
   ]
  },
  {
   "cell_type": "markdown",
   "metadata": {
    "colab_type": "text",
    "id": "HMUDlnzZJkqx"
   },
   "source": [
    "![image](https://media.geeksforgeeks.org/wp-content/uploads/20191023173512/Python-data-structure.jpg)\n",
    "\n",
    "credit: https://www.geeksforgeeks.org/"
   ]
  },
  {
   "cell_type": "markdown",
   "metadata": {
    "colab_type": "text",
    "id": "CiDFYj9bSb55"
   },
   "source": [
    "![mutable/immutable objects](https://miro.medium.com/max/1316/1*uFlTNY4W3czywyU18zxl8w.png)\n",
    "\n",
    "credit: https://medium.com/@meghamohan/mutable-and-immutable-side-of-python-c2145cf72747"
   ]
  },
  {
   "cell_type": "markdown",
   "metadata": {
    "colab_type": "text",
    "id": "WF0c72S0Jkqy"
   },
   "source": [
    "___\n",
    "## Karakter Dizileri ( Strings )"
   ]
  },
  {
   "cell_type": "code",
   "execution_count": 0,
   "metadata": {
    "colab": {},
    "colab_type": "code",
    "id": "WK9Tyo8qJkqz"
   },
   "outputs": [],
   "source": [
    "'c'"
   ]
  },
  {
   "cell_type": "code",
   "execution_count": 0,
   "metadata": {
    "colab": {},
    "colab_type": "code",
    "id": "2u69GOy6Jkq5"
   },
   "outputs": [],
   "source": [
    "' '\n",
    "\n",
    "\" \"\n",
    "\n",
    "\"\"\" \"\"\""
   ]
  },
  {
   "cell_type": "code",
   "execution_count": 0,
   "metadata": {
    "colab": {},
    "colab_type": "code",
    "id": "bB2TZmfXJkq7"
   },
   "outputs": [],
   "source": [
    "\"Hello World\""
   ]
  },
  {
   "cell_type": "code",
   "execution_count": 0,
   "metadata": {
    "colab": {},
    "colab_type": "code",
    "id": "2x4g3wh6Jkq9"
   },
   "outputs": [],
   "source": [
    "\"\"\"\n",
    "Lorem \n",
    "ipsum\n",
    "\"\"\""
   ]
  },
  {
   "cell_type": "code",
   "execution_count": 0,
   "metadata": {
    "colab": {},
    "colab_type": "code",
    "id": "aYSkdveQJkq_"
   },
   "outputs": [],
   "source": [
    "type('Lorem ipsum')"
   ]
  },
  {
   "cell_type": "code",
   "execution_count": 0,
   "metadata": {
    "colab": {},
    "colab_type": "code",
    "id": "f3hIC_cTJkrB"
   },
   "outputs": [],
   "source": [
    "\"Lorem\" +  \" \" + \"ipsum\""
   ]
  },
  {
   "cell_type": "code",
   "execution_count": 0,
   "metadata": {
    "colab": {},
    "colab_type": "code",
    "id": "wFsjpwIsJkrE"
   },
   "outputs": [],
   "source": [
    "\"Python\" \" \" \"bir\" \" \" \"proglama\" \" \" \"dilidir.\""
   ]
  },
  {
   "cell_type": "markdown",
   "metadata": {
    "colab_type": "text",
    "id": "vQse1DFIJkrI"
   },
   "source": [
    "___\n",
    "## Sayılar ( Numbers )"
   ]
  },
  {
   "cell_type": "code",
   "execution_count": 0,
   "metadata": {
    "colab": {},
    "colab_type": "code",
    "id": "vHy6mIU1JkrI",
    "outputId": "dfc6b7b2-2d36-49ff-efb1-d53f39fb8811"
   },
   "outputs": [
    {
     "data": {
      "text/plain": [
       "int"
      ]
     },
     "execution_count": 2,
     "metadata": {
      "tags": []
     },
     "output_type": "execute_result"
    }
   ],
   "source": [
    "type(123)"
   ]
  },
  {
   "cell_type": "code",
   "execution_count": 0,
   "metadata": {
    "colab": {},
    "colab_type": "code",
    "id": "quas3r0gJkrK"
   },
   "outputs": [],
   "source": [
    "type(22.3)"
   ]
  },
  {
   "cell_type": "code",
   "execution_count": 0,
   "metadata": {
    "colab": {},
    "colab_type": "code",
    "id": "Ah4oWZ2QJkrM",
    "outputId": "5136bb17-ec10-4455-d982-287926d39596"
   },
   "outputs": [
    {
     "data": {
      "text/plain": [
       "complex"
      ]
     },
     "execution_count": 3,
     "metadata": {
      "tags": []
     },
     "output_type": "execute_result"
    }
   ],
   "source": [
    "type(7+2j)"
   ]
  },
  {
   "cell_type": "markdown",
   "metadata": {
    "colab_type": "text",
    "id": "LC5-o1chJkrO"
   },
   "source": [
    "___\n",
    "## Aritmetik Oparatörler ( Arithmetic Operators )"
   ]
  },
  {
   "cell_type": "code",
   "execution_count": 0,
   "metadata": {
    "colab": {},
    "colab_type": "code",
    "id": "ECFbr1XuJkrO"
   },
   "outputs": [],
   "source": [
    "100 - 55"
   ]
  },
  {
   "cell_type": "code",
   "execution_count": 0,
   "metadata": {
    "colab": {},
    "colab_type": "code",
    "id": "wZsYupFqJkrQ"
   },
   "outputs": [],
   "source": [
    "4.5 - 1.2"
   ]
  },
  {
   "cell_type": "code",
   "execution_count": 0,
   "metadata": {
    "colab": {},
    "colab_type": "code",
    "id": "gKx04jX5JkrS"
   },
   "outputs": [],
   "source": [
    "4.5 * 2"
   ]
  },
  {
   "cell_type": "code",
   "execution_count": 0,
   "metadata": {
    "colab": {},
    "colab_type": "code",
    "id": "3m1dbTPRJkrU"
   },
   "outputs": [],
   "source": [
    "10 / 2"
   ]
  },
  {
   "cell_type": "code",
   "execution_count": 0,
   "metadata": {
    "colab": {},
    "colab_type": "code",
    "id": "GkaKS_zyJkrW"
   },
   "outputs": [],
   "source": [
    "4**2"
   ]
  },
  {
   "cell_type": "code",
   "execution_count": 0,
   "metadata": {
    "colab": {},
    "colab_type": "code",
    "id": "x8nFQ7-2JkrY"
   },
   "outputs": [],
   "source": [
    "10 % 3"
   ]
  },
  {
   "cell_type": "code",
   "execution_count": 0,
   "metadata": {
    "colab": {},
    "colab_type": "code",
    "id": "GkuRzYdiJkra"
   },
   "outputs": [],
   "source": [
    "10 // 3"
   ]
  },
  {
   "cell_type": "code",
   "execution_count": 0,
   "metadata": {
    "colab": {},
    "colab_type": "code",
    "id": "HiVV2JdBJkrc"
   },
   "outputs": [],
   "source": [
    "pow(5, 2)"
   ]
  },
  {
   "cell_type": "code",
   "execution_count": 0,
   "metadata": {
    "colab": {},
    "colab_type": "code",
    "id": "pvzE9wvCJkre"
   },
   "outputs": [],
   "source": [
    "type(2020)"
   ]
  },
  {
   "cell_type": "code",
   "execution_count": 0,
   "metadata": {
    "colab": {},
    "colab_type": "code",
    "id": "j2O1BKgfJkrG"
   },
   "outputs": [],
   "source": [
    "\"Python\"*2"
   ]
  },
  {
   "cell_type": "markdown",
   "metadata": {
    "colab_type": "text",
    "id": "OS_gd-AjJkry"
   },
   "source": [
    "___\n",
    "## Değişkenler ( Variables )"
   ]
  },
  {
   "cell_type": "code",
   "execution_count": 0,
   "metadata": {
    "colab": {},
    "colab_type": "code",
    "id": "NVU2uRsKJkry"
   },
   "outputs": [],
   "source": [
    "değişken1 = 112\n",
    "değişken2 = 155"
   ]
  },
  {
   "cell_type": "code",
   "execution_count": 0,
   "metadata": {
    "colab": {},
    "colab_type": "code",
    "id": "YtzLclPYJkr0"
   },
   "outputs": [],
   "source": [
    "değişken1"
   ]
  },
  {
   "cell_type": "code",
   "execution_count": 0,
   "metadata": {
    "colab": {},
    "colab_type": "code",
    "id": "S_l93AIwJkr2"
   },
   "outputs": [],
   "source": [
    "değişken1, değişken2 = değişken2, değişken1"
   ]
  },
  {
   "cell_type": "code",
   "execution_count": 0,
   "metadata": {
    "colab": {},
    "colab_type": "code",
    "id": "rjy2dTpmJkr3"
   },
   "outputs": [],
   "source": [
    "değişken1"
   ]
  },
  {
   "cell_type": "code",
   "execution_count": 0,
   "metadata": {
    "colab": {},
    "colab_type": "code",
    "id": "blSdUaiwJkrh"
   },
   "outputs": [],
   "source": [
    "saatlik_ücret = 10\n",
    "haftalık_çalışma_saati = 40"
   ]
  },
  {
   "cell_type": "code",
   "execution_count": 0,
   "metadata": {
    "colab": {},
    "colab_type": "code",
    "id": "w84b9N1iJkrj"
   },
   "outputs": [],
   "source": [
    "maaş = haftalık_çalışma_saati * saatlik_ücret\n",
    "maaş"
   ]
  },
  {
   "cell_type": "code",
   "execution_count": 0,
   "metadata": {
    "colab": {},
    "colab_type": "code",
    "id": "ipZ5R5XpJkrk"
   },
   "outputs": [],
   "source": [
    "username = \"admin\""
   ]
  },
  {
   "cell_type": "code",
   "execution_count": 0,
   "metadata": {
    "colab": {},
    "colab_type": "code",
    "id": "RWhzoaoNJkrn"
   },
   "outputs": [],
   "source": [
    "password = \"password\""
   ]
  },
  {
   "cell_type": "code",
   "execution_count": 0,
   "metadata": {
    "colab": {},
    "colab_type": "code",
    "id": "bJ-h6zLIJkrp"
   },
   "outputs": [],
   "source": [
    "len(username)"
   ]
  },
  {
   "cell_type": "code",
   "execution_count": 0,
   "metadata": {
    "colab": {},
    "colab_type": "code",
    "id": "bhiKQN4QJkrr"
   },
   "outputs": [],
   "source": [
    "len(username) + len(password)"
   ]
  },
  {
   "cell_type": "code",
   "execution_count": 0,
   "metadata": {
    "colab": {},
    "colab_type": "code",
    "id": "0h-Svli1Jkrt"
   },
   "outputs": [],
   "source": [
    "sayı = 5\n",
    "# 5\n",
    "\n",
    "sayı += 5\n",
    "print(sayı)\n",
    "# 10\n",
    "\n",
    "sayı -= 5\n",
    "print(sayı)\n",
    "# 5\n",
    "\n",
    "sayı *= 5\n",
    "print(sayı)\n",
    "# 25\n",
    "\n",
    "sayı /= 5\n",
    "print(sayı)\n",
    "# 5.0\n",
    "\n",
    "sayı **= 2\n",
    "print(sayı)\n",
    "# 25.0\n",
    "\n",
    "sayı //= 4\n",
    "print(sayı)\n",
    "# 6.0\n",
    "\n",
    "sayı %= 5\n",
    "print(sayı)\n",
    "# 1.0"
   ]
  },
  {
   "cell_type": "code",
   "execution_count": 0,
   "metadata": {
    "colab": {},
    "colab_type": "code",
    "id": "XZ3euUGuJkru"
   },
   "outputs": [],
   "source": [
    "#anahtar kelimeler\n",
    "import keyword\n",
    "keyword.kwlist"
   ]
  },
  {
   "cell_type": "code",
   "execution_count": 0,
   "metadata": {
    "colab": {},
    "colab_type": "code",
    "id": "n-5-YeXNJkrw"
   },
   "outputs": [],
   "source": [
    "del maaş"
   ]
  },
  {
   "cell_type": "markdown",
   "metadata": {
    "colab_type": "text",
    "id": "oXefclbtJkr5"
   },
   "source": [
    "___\n",
    "## Print Fonksiyonu"
   ]
  },
  {
   "cell_type": "code",
   "execution_count": 0,
   "metadata": {
    "colab": {},
    "colab_type": "code",
    "id": "oza-vGp9Sb8R"
   },
   "outputs": [],
   "source": [
    "print(\"Hello World\")"
   ]
  },
  {
   "cell_type": "code",
   "execution_count": 0,
   "metadata": {
    "colab": {},
    "colab_type": "code",
    "id": "zMyB-Ss8Jkr5"
   },
   "outputs": [],
   "source": [
    "print(\"Lorem\", \"Ipsum\", \"is\", \"simply\", \"dummy\", \"text\")"
   ]
  },
  {
   "cell_type": "code",
   "execution_count": 0,
   "metadata": {
    "colab": {},
    "colab_type": "code",
    "id": "WjIT8y4NJkr7"
   },
   "outputs": [],
   "source": [
    "print(\"Lorem Ipsum is simply dummy text\", sep=\" \", end=\"\\n\")"
   ]
  },
  {
   "cell_type": "code",
   "execution_count": 0,
   "metadata": {
    "colab": {},
    "colab_type": "code",
    "id": "zzrxTH1xJkr9"
   },
   "outputs": [],
   "source": [
    "print(\"Lorem\", \"Ipsum\", \"is\", \"simply\", \"dummy\", \"text\", sep=\"-\", end=\"\\n\")"
   ]
  },
  {
   "cell_type": "code",
   "execution_count": 0,
   "metadata": {
    "colab": {},
    "colab_type": "code",
    "id": "PXC2avEeJkr-"
   },
   "outputs": [],
   "source": [
    "print(\"Lorem\", \"Ipsum\", \"is\", \"simply\", \"dummy\", \"text\", sep=\"-py-\", end=\"!!\")"
   ]
  },
  {
   "cell_type": "code",
   "execution_count": 0,
   "metadata": {
    "colab": {},
    "colab_type": "code",
    "id": "ReIClT58JksB"
   },
   "outputs": [],
   "source": [
    "print(*\"Lorem ipsum\", sep=\"-\")"
   ]
  },
  {
   "cell_type": "code",
   "execution_count": 0,
   "metadata": {
    "colab": {},
    "colab_type": "code",
    "id": "1bWuHVxxJksD"
   },
   "outputs": [],
   "source": [
    "print(\"Ölü\", \"Ozanlar\", \"Derneği\", 1989)"
   ]
  },
  {
   "cell_type": "code",
   "execution_count": 0,
   "metadata": {
    "colab": {},
    "colab_type": "code",
    "id": "W2Qxkm6DJksF"
   },
   "outputs": [],
   "source": [
    "print(\"Python is an interpreted, high-level, general-purpose programming language. Created by Guido van Rossum and first released in 1991, Python has a design philosophy that emphasizes code readability, notably using significant whitespace. It provides constructs that enable clear programming on both small and large scales. \")"
   ]
  },
  {
   "cell_type": "code",
   "execution_count": 0,
   "metadata": {
    "colab": {},
    "colab_type": "code",
    "id": "4O1dUaSLJksH"
   },
   "outputs": [],
   "source": [
    "print(\"Ölü \n",
    "      Ozanlar \n",
    "      Derneği\")"
   ]
  },
  {
   "cell_type": "code",
   "execution_count": 0,
   "metadata": {
    "colab": {},
    "colab_type": "code",
    "id": "Whp0QyTfJksJ",
    "outputId": "f6a54c26-1c9e-46fe-d22e-7a69e87b460e"
   },
   "outputs": [
    {
     "name": "stdout",
     "output_type": "stream",
     "text": [
      "Ölü \n",
      "Ozanlar \n",
      "Derneği\n"
     ]
    }
   ],
   "source": [
    "print(\"\"\"Ölü \n",
    "Ozanlar \n",
    "Derneği\"\"\")"
   ]
  },
  {
   "cell_type": "code",
   "execution_count": 0,
   "metadata": {
    "colab": {},
    "colab_type": "code",
    "id": "c0pdZlIWJksM",
    "outputId": "718f8811-49a8-49fd-fff7-8ee0c9017bc4"
   },
   "outputs": [
    {
     "name": "stdout",
     "output_type": "stream",
     "text": [
      "\"Dünya Güneş Venüs Mars\"\n"
     ]
    }
   ],
   "source": [
    "print(\"\\\"Dünya Güneş Venüs Mars\\\"\")"
   ]
  },
  {
   "cell_type": "code",
   "execution_count": 0,
   "metadata": {
    "colab": {},
    "colab_type": "code",
    "id": "n1ItmqInJksO",
    "outputId": "a40dcc0d-d8a9-4b20-a8c5-33a596e5bb2e"
   },
   "outputs": [
    {
     "name": "stdout",
     "output_type": "stream",
     "text": [
      "Gül sokak 10\\7 Merkez\\Niğde\n"
     ]
    }
   ],
   "source": [
    "print(\"Gül sokak 10\\\\7 Merkez\\\\Niğde\")"
   ]
  },
  {
   "cell_type": "code",
   "execution_count": 0,
   "metadata": {
    "colab": {},
    "colab_type": "code",
    "id": "VvH7DFFsJksP",
    "outputId": "55aa28c1-869e-4980-e2f4-978836f82f83"
   },
   "outputs": [
    {
     "name": "stdout",
     "output_type": "stream",
     "text": [
      "Yeni Satırbaşı\n"
     ]
    }
   ],
   "source": [
    "print(\"Eski Satırbaşı\\rYeni\")"
   ]
  },
  {
   "cell_type": "code",
   "execution_count": 0,
   "metadata": {
    "colab": {},
    "colab_type": "code",
    "id": "Kcdy2EF8JksQ",
    "outputId": "1fe1e63b-6d10-4be2-e5bb-2b63f94bbfba"
   },
   "outputs": [
    {
     "name": "stdout",
     "output_type": "stream",
     "text": [
      "Birkaç boşluk\taralık\n"
     ]
    }
   ],
   "source": [
    "print(\"Birkaç boşluk\\taralık\")"
   ]
  },
  {
   "cell_type": "code",
   "execution_count": 0,
   "metadata": {
    "colab": {},
    "colab_type": "code",
    "id": "pGzCzJWoSb9E",
    "outputId": "d62d8ea3-8a6b-4bad-d59a-4c2486c63fd1"
   },
   "outputs": [
    {
     "name": "stdout",
     "output_type": "stream",
     "text": [
      "\\nMerhaba\\tDünya\\r\\\\\n"
     ]
    }
   ],
   "source": [
    "print(r\"\\nMerhaba\\tDünya\\r\\\\\")"
   ]
  },
  {
   "cell_type": "markdown",
   "metadata": {
    "colab_type": "text",
    "id": "3B7tlffyJksS"
   },
   "source": [
    "___\n",
    "## Kullanıcıdan Veri Almak ( input() )"
   ]
  },
  {
   "cell_type": "code",
   "execution_count": 0,
   "metadata": {
    "colab": {},
    "colab_type": "code",
    "id": "dkLi7oGXJksS"
   },
   "outputs": [],
   "source": [
    "isim = input(\"İsminiz: \")\n",
    "yaş = input(\"Yaşınız: \")\n",
    "print(isim, yaş)"
   ]
  },
  {
   "cell_type": "code",
   "execution_count": 0,
   "metadata": {
    "colab": {},
    "colab_type": "code",
    "id": "rn36GmZeJksT"
   },
   "outputs": [],
   "source": [
    "yaş + 10"
   ]
  },
  {
   "cell_type": "code",
   "execution_count": 0,
   "metadata": {
    "colab": {},
    "colab_type": "code",
    "id": "khSPjLXwJksV"
   },
   "outputs": [],
   "source": [
    "type(yaş)"
   ]
  },
  {
   "cell_type": "markdown",
   "metadata": {
    "colab_type": "text",
    "id": "mq-btx0zJksY"
   },
   "source": [
    "___\n",
    "## Tip Dönüşümleri ( Type Casting )"
   ]
  },
  {
   "cell_type": "code",
   "execution_count": 0,
   "metadata": {
    "colab": {},
    "colab_type": "code",
    "id": "pl9GcoiSJksY"
   },
   "outputs": [],
   "source": [
    "yaş = int(yaş) + 10\n",
    "print(yaş)\n",
    "print(type(yaş))"
   ]
  },
  {
   "cell_type": "code",
   "execution_count": 0,
   "metadata": {
    "colab": {},
    "colab_type": "code",
    "id": "GT0_jzMIJksb"
   },
   "outputs": [],
   "source": [
    "yaş = float(yaş) + 5.5\n",
    "print(yaş)\n",
    "print(type(yaş))"
   ]
  },
  {
   "cell_type": "code",
   "execution_count": 0,
   "metadata": {
    "colab": {},
    "colab_type": "code",
    "id": "tM7yyV_pJksd"
   },
   "outputs": [],
   "source": [
    "print(isim + \" \" + str(yaş) + \" yaşında!\")"
   ]
  },
  {
   "cell_type": "code",
   "execution_count": 0,
   "metadata": {
    "colab": {},
    "colab_type": "code",
    "id": "A968qrVFJksf",
    "outputId": "727f379d-e8db-4794-c768-f725b48feb35"
   },
   "outputs": [
    {
     "name": "stdout",
     "output_type": "stream",
     "text": [
      "Üs hesaplamak için\n",
      "Taban sayıyı girin: 5\n",
      "Üs sayıyı girin: 2\n",
      "5 ** 2 = 25\n"
     ]
    }
   ],
   "source": [
    "print(\"Üs hesaplamak için\")\n",
    "sayı1 = int(input(\"Taban sayıyı girin: \"))\n",
    "sayı2 = int(input(\"Üs sayıyı girin: \"))\n",
    "print(sayı1, \"**\", sayı2, \"=\", pow(sayı1,sayı2))"
   ]
  },
  {
   "cell_type": "markdown",
   "metadata": {
    "colab_type": "text",
    "id": "kst2QuEwSb9q"
   },
   "source": [
    "___\n",
    "## Karakter Dizisi Biçimlendirme ( String Formatting )"
   ]
  },
  {
   "cell_type": "code",
   "execution_count": 0,
   "metadata": {
    "colab": {},
    "colab_type": "code",
    "id": "xLAdbedkJksh",
    "outputId": "f4ad665a-2634-4191-8192-dfb6f8aad21e"
   },
   "outputs": [
    {
     "ename": "NameError",
     "evalue": "name 'isim' is not defined",
     "output_type": "error",
     "traceback": [
      "\u001b[0;31m---------------------------------------------------------------------------\u001b[0m",
      "\u001b[0;31mNameError\u001b[0m                                 Traceback (most recent call last)",
      "\u001b[0;32m<ipython-input-11-4dd4fed8da29>\u001b[0m in \u001b[0;36m<module>\u001b[0;34m\u001b[0m\n\u001b[0;32m----> 1\u001b[0;31m \u001b[0mprint\u001b[0m\u001b[0;34m(\u001b[0m\u001b[0;34m\"Selam, benim adım {0} ve {1} yaşındayım!\"\u001b[0m\u001b[0;34m.\u001b[0m\u001b[0mformat\u001b[0m\u001b[0;34m(\u001b[0m\u001b[0misim\u001b[0m\u001b[0;34m,\u001b[0m \u001b[0;36m33\u001b[0m\u001b[0;34m)\u001b[0m\u001b[0;34m)\u001b[0m\u001b[0;34m\u001b[0m\u001b[0;34m\u001b[0m\u001b[0m\n\u001b[0m",
      "\u001b[0;31mNameError\u001b[0m: name 'isim' is not defined"
     ]
    }
   ],
   "source": [
    "print(\"Selam, benim adım {0} ve {1} yaşındayım!\".format(isim, 33))"
   ]
  },
  {
   "cell_type": "code",
   "execution_count": 0,
   "metadata": {
    "colab": {},
    "colab_type": "code",
    "id": "TQgVS2PPJksi"
   },
   "outputs": [],
   "source": [
    "print(f\"Selam, benim adım {'John Doe'} ve {yaş} yaşındayım!\")"
   ]
  },
  {
   "cell_type": "markdown",
   "metadata": {
    "colab_type": "text",
    "id": "rInHfh0wJksj"
   },
   "source": [
    "___\n",
    "## Koşullu Durumlar ( Condition Statements )"
   ]
  },
  {
   "cell_type": "code",
   "execution_count": 0,
   "metadata": {
    "colab": {},
    "colab_type": "code",
    "id": "AKf1VB6EJksk",
    "outputId": "31f57802-1d5c-4c05-a134-a341748fdd28",
    "scrolled": true
   },
   "outputs": [
    {
     "data": {
      "text/plain": [
       "True"
      ]
     },
     "execution_count": 16,
     "metadata": {
      "tags": []
     },
     "output_type": "execute_result"
    }
   ],
   "source": [
    "bool(1)"
   ]
  },
  {
   "cell_type": "code",
   "execution_count": 0,
   "metadata": {
    "colab": {},
    "colab_type": "code",
    "id": "T1cp4vsiSb9z",
    "outputId": "e557deb5-2f15-4376-e981-4076936525ef"
   },
   "outputs": [
    {
     "data": {
      "text/plain": [
       "False"
      ]
     },
     "execution_count": 17,
     "metadata": {
      "tags": []
     },
     "output_type": "execute_result"
    }
   ],
   "source": [
    "bool(0)"
   ]
  },
  {
   "cell_type": "code",
   "execution_count": 0,
   "metadata": {
    "colab": {},
    "colab_type": "code",
    "id": "jFCUE4R0Jksm",
    "outputId": "5a50310c-0260-4402-9e64-e0822458c924"
   },
   "outputs": [
    {
     "data": {
      "text/plain": [
       "False"
      ]
     },
     "execution_count": 18,
     "metadata": {
      "tags": []
     },
     "output_type": "execute_result"
    }
   ],
   "source": [
    "bool(\"\")"
   ]
  },
  {
   "cell_type": "code",
   "execution_count": 0,
   "metadata": {
    "colab": {},
    "colab_type": "code",
    "id": "8LiNhp5DJksn",
    "outputId": "f2199aff-40a0-48dd-9447-06c32f37c058"
   },
   "outputs": [
    {
     "data": {
      "text/plain": [
       "True"
      ]
     },
     "execution_count": 19,
     "metadata": {
      "tags": []
     },
     "output_type": "execute_result"
    }
   ],
   "source": [
    "bool(\"Lorem ipsum\")"
   ]
  },
  {
   "cell_type": "code",
   "execution_count": 0,
   "metadata": {
    "colab": {},
    "colab_type": "code",
    "id": "-LXjzNywJksp",
    "outputId": "244508d4-1e46-44a9-b2a6-f315e485c2ca"
   },
   "outputs": [
    {
     "data": {
      "text/plain": [
       "True"
      ]
     },
     "execution_count": 4,
     "metadata": {
      "tags": []
     },
     "output_type": "execute_result"
    }
   ],
   "source": [
    "bool(1234)"
   ]
  },
  {
   "cell_type": "markdown",
   "metadata": {
    "colab_type": "text",
    "id": "mxpEep9qJksq"
   },
   "source": [
    "```\n",
    "==   Eşittir\n",
    "!=   Eşit Değildir\n",
    ">    Büyüktür\n",
    "<    Küçüktür\n",
    ">=   Büyük Eşittir\n",
    "<=   Küçük Eşittir\n",
    "```"
   ]
  },
  {
   "cell_type": "code",
   "execution_count": 0,
   "metadata": {
    "colab": {},
    "colab_type": "code",
    "id": "sYyNRA_kJksr",
    "outputId": "0b4a5f87-e851-4f60-b71d-810c389e6578"
   },
   "outputs": [
    {
     "name": "stdout",
     "output_type": "stream",
     "text": [
      "(50 > 30) : True\n",
      "(20 > 30) : False\n",
      "(50 > 30) and (20 > 30) : False\n",
      "(50 > 30) or (20 > 30) : True\n"
     ]
    }
   ],
   "source": [
    "print(\"(50 > 30) :\", (50 > 30))\n",
    "print(\"(20 > 30) :\", (20 > 30))\n",
    "print(\"(50 > 30) and (20 > 30) :\", (50 > 30) and (20 > 30))\n",
    "print(\"(50 > 30) or (20 > 30) :\", (50 > 30) or (20 > 30))"
   ]
  },
  {
   "cell_type": "code",
   "execution_count": 0,
   "metadata": {
    "colab": {},
    "colab_type": "code",
    "id": "zsJgyfC0Jkss",
    "outputId": "08e6a5f7-b19f-4be0-a06b-4a0a877d4e5a"
   },
   "outputs": [
    {
     "name": "stdout",
     "output_type": "stream",
     "text": [
      "False\n"
     ]
    }
   ],
   "source": [
    "print(True and False)"
   ]
  },
  {
   "cell_type": "code",
   "execution_count": 0,
   "metadata": {
    "colab": {},
    "colab_type": "code",
    "id": "FMVLr_PWJkst",
    "outputId": "b675f34f-b443-4936-8ab4-b224ff91afb8"
   },
   "outputs": [
    {
     "name": "stdout",
     "output_type": "stream",
     "text": [
      "True\n"
     ]
    }
   ],
   "source": [
    "print(True and True)"
   ]
  },
  {
   "cell_type": "code",
   "execution_count": 0,
   "metadata": {
    "colab": {},
    "colab_type": "code",
    "id": "AOgWL1PUJksu",
    "outputId": "588fec8f-5821-4957-9396-983a73c801fe"
   },
   "outputs": [
    {
     "name": "stdout",
     "output_type": "stream",
     "text": [
      "False\n"
     ]
    }
   ],
   "source": [
    "print(not True)"
   ]
  },
  {
   "cell_type": "code",
   "execution_count": 0,
   "metadata": {
    "colab": {},
    "colab_type": "code",
    "id": "MFQ3lI0ZJksv",
    "outputId": "a0d07aa4-4625-4806-927c-a492b94c5c22"
   },
   "outputs": [
    {
     "name": "stdout",
     "output_type": "stream",
     "text": [
      "Sayı giriniz:26\n",
      "25'ten büyük!\n"
     ]
    }
   ],
   "source": [
    "a = int(input(\"Sayı giriniz:\"))\n",
    "\n",
    "if a < 10:\n",
    "    print(\"10'dan küçük!\")\n",
    "elif a < 15:\n",
    "    print(\"15'ten küçük!\")\n",
    "elif a <= 25:\n",
    "    print(\"25'ten küçük veya 25'e eşit!\")\n",
    "else:\n",
    "    print(\"25'ten büyük!\")"
   ]
  },
  {
   "cell_type": "code",
   "execution_count": 0,
   "metadata": {
    "colab": {},
    "colab_type": "code",
    "id": "cqrX-afxJksx",
    "outputId": "2cebfb5a-5899-4150-914a-9b147e1abb24"
   },
   "outputs": [
    {
     "ename": "KeyboardInterrupt",
     "evalue": "",
     "output_type": "error",
     "traceback": [
      "\u001b[0;31m---------------------------------------------------------------------------\u001b[0m",
      "\u001b[0;31mKeyboardInterrupt\u001b[0m                         Traceback (most recent call last)",
      "\u001b[0;32m~/.pyenv/versions/3.8.1/lib/python3.8/site-packages/ipykernel/kernelbase.py\u001b[0m in \u001b[0;36m_input_request\u001b[0;34m(self, prompt, ident, parent, password)\u001b[0m\n\u001b[1;32m    883\u001b[0m             \u001b[0;32mtry\u001b[0m\u001b[0;34m:\u001b[0m\u001b[0;34m\u001b[0m\u001b[0;34m\u001b[0m\u001b[0m\n\u001b[0;32m--> 884\u001b[0;31m                 \u001b[0mident\u001b[0m\u001b[0;34m,\u001b[0m \u001b[0mreply\u001b[0m \u001b[0;34m=\u001b[0m \u001b[0mself\u001b[0m\u001b[0;34m.\u001b[0m\u001b[0msession\u001b[0m\u001b[0;34m.\u001b[0m\u001b[0mrecv\u001b[0m\u001b[0;34m(\u001b[0m\u001b[0mself\u001b[0m\u001b[0;34m.\u001b[0m\u001b[0mstdin_socket\u001b[0m\u001b[0;34m,\u001b[0m \u001b[0;36m0\u001b[0m\u001b[0;34m)\u001b[0m\u001b[0;34m\u001b[0m\u001b[0;34m\u001b[0m\u001b[0m\n\u001b[0m\u001b[1;32m    885\u001b[0m             \u001b[0;32mexcept\u001b[0m \u001b[0mException\u001b[0m\u001b[0;34m:\u001b[0m\u001b[0;34m\u001b[0m\u001b[0;34m\u001b[0m\u001b[0m\n",
      "\u001b[0;32m~/.pyenv/versions/3.8.1/lib/python3.8/site-packages/jupyter_client/session.py\u001b[0m in \u001b[0;36mrecv\u001b[0;34m(self, socket, mode, content, copy)\u001b[0m\n\u001b[1;32m    802\u001b[0m         \u001b[0;32mtry\u001b[0m\u001b[0;34m:\u001b[0m\u001b[0;34m\u001b[0m\u001b[0;34m\u001b[0m\u001b[0m\n\u001b[0;32m--> 803\u001b[0;31m             \u001b[0mmsg_list\u001b[0m \u001b[0;34m=\u001b[0m \u001b[0msocket\u001b[0m\u001b[0;34m.\u001b[0m\u001b[0mrecv_multipart\u001b[0m\u001b[0;34m(\u001b[0m\u001b[0mmode\u001b[0m\u001b[0;34m,\u001b[0m \u001b[0mcopy\u001b[0m\u001b[0;34m=\u001b[0m\u001b[0mcopy\u001b[0m\u001b[0;34m)\u001b[0m\u001b[0;34m\u001b[0m\u001b[0;34m\u001b[0m\u001b[0m\n\u001b[0m\u001b[1;32m    804\u001b[0m         \u001b[0;32mexcept\u001b[0m \u001b[0mzmq\u001b[0m\u001b[0;34m.\u001b[0m\u001b[0mZMQError\u001b[0m \u001b[0;32mas\u001b[0m \u001b[0me\u001b[0m\u001b[0;34m:\u001b[0m\u001b[0;34m\u001b[0m\u001b[0;34m\u001b[0m\u001b[0m\n",
      "\u001b[0;32m~/.pyenv/versions/3.8.1/lib/python3.8/site-packages/zmq/sugar/socket.py\u001b[0m in \u001b[0;36mrecv_multipart\u001b[0;34m(self, flags, copy, track)\u001b[0m\n\u001b[1;32m    474\u001b[0m         \"\"\"\n\u001b[0;32m--> 475\u001b[0;31m         \u001b[0mparts\u001b[0m \u001b[0;34m=\u001b[0m \u001b[0;34m[\u001b[0m\u001b[0mself\u001b[0m\u001b[0;34m.\u001b[0m\u001b[0mrecv\u001b[0m\u001b[0;34m(\u001b[0m\u001b[0mflags\u001b[0m\u001b[0;34m,\u001b[0m \u001b[0mcopy\u001b[0m\u001b[0;34m=\u001b[0m\u001b[0mcopy\u001b[0m\u001b[0;34m,\u001b[0m \u001b[0mtrack\u001b[0m\u001b[0;34m=\u001b[0m\u001b[0mtrack\u001b[0m\u001b[0;34m)\u001b[0m\u001b[0;34m]\u001b[0m\u001b[0;34m\u001b[0m\u001b[0;34m\u001b[0m\u001b[0m\n\u001b[0m\u001b[1;32m    476\u001b[0m         \u001b[0;31m# have first part already, only loop while more to receive\u001b[0m\u001b[0;34m\u001b[0m\u001b[0;34m\u001b[0m\u001b[0;34m\u001b[0m\u001b[0m\n",
      "\u001b[0;32mzmq/backend/cython/socket.pyx\u001b[0m in \u001b[0;36mzmq.backend.cython.socket.Socket.recv\u001b[0;34m()\u001b[0m\n",
      "\u001b[0;32mzmq/backend/cython/socket.pyx\u001b[0m in \u001b[0;36mzmq.backend.cython.socket.Socket.recv\u001b[0;34m()\u001b[0m\n",
      "\u001b[0;32mzmq/backend/cython/socket.pyx\u001b[0m in \u001b[0;36mzmq.backend.cython.socket._recv_copy\u001b[0;34m()\u001b[0m\n",
      "\u001b[0;32m~/.pyenv/versions/3.8.1/lib/python3.8/site-packages/zmq/backend/cython/checkrc.pxd\u001b[0m in \u001b[0;36mzmq.backend.cython.checkrc._check_rc\u001b[0;34m()\u001b[0m\n",
      "\u001b[0;31mKeyboardInterrupt\u001b[0m: ",
      "\nDuring handling of the above exception, another exception occurred:\n",
      "\u001b[0;31mKeyboardInterrupt\u001b[0m                         Traceback (most recent call last)",
      "\u001b[0;32m<ipython-input-27-dd321dba14a2>\u001b[0m in \u001b[0;36m<module>\u001b[0;34m\u001b[0m\n\u001b[1;32m      2\u001b[0m \u001b[0mgerçek_şifre\u001b[0m \u001b[0;34m=\u001b[0m \u001b[0;34m\"test\"\u001b[0m\u001b[0;34m\u001b[0m\u001b[0;34m\u001b[0m\u001b[0m\n\u001b[1;32m      3\u001b[0m \u001b[0;34m\u001b[0m\u001b[0m\n\u001b[0;32m----> 4\u001b[0;31m \u001b[0msorulan_kullanıcı\u001b[0m \u001b[0;34m=\u001b[0m \u001b[0minput\u001b[0m\u001b[0;34m(\u001b[0m\u001b[0;34m\"Kullanıcı adınız:\"\u001b[0m\u001b[0;34m)\u001b[0m\u001b[0;34m\u001b[0m\u001b[0;34m\u001b[0m\u001b[0m\n\u001b[0m\u001b[1;32m      5\u001b[0m \u001b[0msorulan_şifre\u001b[0m \u001b[0;34m=\u001b[0m \u001b[0minput\u001b[0m\u001b[0;34m(\u001b[0m\u001b[0;34m\"Şifreniz:\"\u001b[0m\u001b[0;34m)\u001b[0m\u001b[0;34m\u001b[0m\u001b[0;34m\u001b[0m\u001b[0m\n\u001b[1;32m      6\u001b[0m \u001b[0;34m\u001b[0m\u001b[0m\n",
      "\u001b[0;32m~/.pyenv/versions/3.8.1/lib/python3.8/site-packages/ipykernel/kernelbase.py\u001b[0m in \u001b[0;36mraw_input\u001b[0;34m(self, prompt)\u001b[0m\n\u001b[1;32m    854\u001b[0m                 \u001b[0;34m\"raw_input was called, but this frontend does not support input requests.\"\u001b[0m\u001b[0;34m\u001b[0m\u001b[0;34m\u001b[0m\u001b[0m\n\u001b[1;32m    855\u001b[0m             )\n\u001b[0;32m--> 856\u001b[0;31m         return self._input_request(str(prompt),\n\u001b[0m\u001b[1;32m    857\u001b[0m             \u001b[0mself\u001b[0m\u001b[0;34m.\u001b[0m\u001b[0m_parent_ident\u001b[0m\u001b[0;34m,\u001b[0m\u001b[0;34m\u001b[0m\u001b[0;34m\u001b[0m\u001b[0m\n\u001b[1;32m    858\u001b[0m             \u001b[0mself\u001b[0m\u001b[0;34m.\u001b[0m\u001b[0m_parent_header\u001b[0m\u001b[0;34m,\u001b[0m\u001b[0;34m\u001b[0m\u001b[0;34m\u001b[0m\u001b[0m\n",
      "\u001b[0;32m~/.pyenv/versions/3.8.1/lib/python3.8/site-packages/ipykernel/kernelbase.py\u001b[0m in \u001b[0;36m_input_request\u001b[0;34m(self, prompt, ident, parent, password)\u001b[0m\n\u001b[1;32m    887\u001b[0m             \u001b[0;32mexcept\u001b[0m \u001b[0mKeyboardInterrupt\u001b[0m\u001b[0;34m:\u001b[0m\u001b[0;34m\u001b[0m\u001b[0;34m\u001b[0m\u001b[0m\n\u001b[1;32m    888\u001b[0m                 \u001b[0;31m# re-raise KeyboardInterrupt, to truncate traceback\u001b[0m\u001b[0;34m\u001b[0m\u001b[0;34m\u001b[0m\u001b[0;34m\u001b[0m\u001b[0m\n\u001b[0;32m--> 889\u001b[0;31m                 \u001b[0;32mraise\u001b[0m \u001b[0mKeyboardInterrupt\u001b[0m\u001b[0;34m\u001b[0m\u001b[0;34m\u001b[0m\u001b[0m\n\u001b[0m\u001b[1;32m    890\u001b[0m             \u001b[0;32melse\u001b[0m\u001b[0;34m:\u001b[0m\u001b[0;34m\u001b[0m\u001b[0;34m\u001b[0m\u001b[0m\n\u001b[1;32m    891\u001b[0m                 \u001b[0;32mbreak\u001b[0m\u001b[0;34m\u001b[0m\u001b[0;34m\u001b[0m\u001b[0m\n",
      "\u001b[0;31mKeyboardInterrupt\u001b[0m: "
     ]
    }
   ],
   "source": [
    "gerçek_kullanıcı = \"test\"\n",
    "gerçek_şifre = \"test\"\n",
    "\n",
    "sorulan_kullanıcı = input(\"Kullanıcı adınız:\")\n",
    "sorulan_şifre = input(\"Şifreniz:\")\n",
    "\n",
    "if gerçek_şifre == sorulan_şifre and gerçek_kullanıcı == sorulan_kullanıcı:\n",
    "    print(\"Giriş başarılı!\")\n",
    "elif not sorulan_kullanıcı:\n",
    "    print(\"Kullanıcı adı alanı boş olamaz!\")\n",
    "elif not sorulan_şifre:\n",
    "    print(\"Şifre alanı boş olamaz!\")\n",
    "else:\n",
    "    print(\"Kullanıcı adı veya şifre yanlış!\")"
   ]
  },
  {
   "cell_type": "code",
   "execution_count": 0,
   "metadata": {
    "colab": {},
    "colab_type": "code",
    "id": "dSJOWv7cJksy",
    "outputId": "8419ba1d-fc50-4b20-d492-432b83d7a6a5"
   },
   "outputs": [
    {
     "name": "stdout",
     "output_type": "stream",
     "text": [
      "Sözcüğü giriniz:Piton\n",
      "Cümlede öyle bir sözcük yok!\n"
     ]
    }
   ],
   "source": [
    "cümle = \"\"\"Python, nesne yönelimli, yorumlamalı, \n",
    "birimsel ve etkileşimli yüksek seviyeli bir programlama dilidir.\"\"\"\n",
    "\n",
    "aranacak_sözcük = input(\"Sözcüğü giriniz:\")\n",
    "\n",
    "if aranacak_sözcük in cümle:\n",
    "    print(\"Aranan sözcük cümlede mevcut!\")\n",
    "else:\n",
    "    print(\"Cümlede öyle bir sözcük yok!\")"
   ]
  },
  {
   "cell_type": "markdown",
   "metadata": {
    "colab_type": "text",
    "id": "h3tDa46CJksz"
   },
   "source": [
    "### Walrus Operator"
   ]
  },
  {
   "cell_type": "code",
   "execution_count": 0,
   "metadata": {
    "colab": {},
    "colab_type": "code",
    "id": "9FvOoOzHJksz"
   },
   "outputs": [],
   "source": [
    "# yaş = int(input(\"Yaşınız: \"))\n",
    "if (yaş := int(input(\"Yaşınız: \"))) >= 18:\n",
    "    print(f\"{yaş} yaşındasınız, girebilirsiniz!\")\n",
    "else:\n",
    "    print(f\"{yaş} yaşındasınız, henüz giremezsiniz!\")"
   ]
  },
  {
   "cell_type": "markdown",
   "metadata": {
    "colab_type": "text",
    "id": "keNFEmgLJks1"
   },
   "source": [
    "### Dosya İşlemleri ( File Operations )"
   ]
  },
  {
   "cell_type": "code",
   "execution_count": 0,
   "metadata": {
    "colab": {},
    "colab_type": "code",
    "id": "bLCRVYjGJks1"
   },
   "outputs": [],
   "source": [
    "f = open('test.txt', 'w')\n",
    "print(\"Deneme0\", file=f, flush=False)"
   ]
  },
  {
   "cell_type": "code",
   "execution_count": 0,
   "metadata": {
    "colab": {},
    "colab_type": "code",
    "id": "uNR6hGxDJks3",
    "outputId": "85d15e98-3e40-4437-e46e-35f829e475b6"
   },
   "outputs": [
    {
     "data": {
      "text/plain": [
       "28"
      ]
     },
     "execution_count": 36,
     "metadata": {
      "tags": []
     },
     "output_type": "execute_result"
    }
   ],
   "source": [
    "print(\"Deneme1\", file=f, flush=True)\n",
    "print(\"Deneme2\", file=f, flush=True)\n",
    "f.write('Deneme3 f.write() kullanarak')"
   ]
  },
  {
   "cell_type": "code",
   "execution_count": 0,
   "metadata": {
    "colab": {},
    "colab_type": "code",
    "id": "75k8V0ERJks4"
   },
   "outputs": [],
   "source": [
    "f.close()"
   ]
  },
  {
   "cell_type": "code",
   "execution_count": 0,
   "metadata": {
    "colab": {},
    "colab_type": "code",
    "id": "c48LOC3LJks5",
    "outputId": "2e9ef954-b25c-4e5b-90db-ad2d1d4d1976"
   },
   "outputs": [
    {
     "name": "stdout",
     "output_type": "stream",
     "text": [
      "Deneme0\n",
      "Deneme1\n",
      "Deneme2\n",
      "Deneme3 f.write() kullanarak\n"
     ]
    }
   ],
   "source": [
    "f = open('test.txt', 'r')\n",
    "print(f.read())"
   ]
  },
  {
   "cell_type": "code",
   "execution_count": 0,
   "metadata": {
    "colab": {},
    "colab_type": "code",
    "id": "0Bo2io9aJks6",
    "outputId": "d25b9ad7-a01a-4238-e1a7-4b2392d62451"
   },
   "outputs": [
    {
     "name": "stdout",
     "output_type": "stream",
     "text": [
      "Deneme0\n",
      "Deneme1\n",
      "Deneme2\n",
      "Deneme3 f.write() kullanarak\n"
     ]
    }
   ],
   "source": [
    "f.seek(0)\n",
    "print(f.read())"
   ]
  },
  {
   "cell_type": "code",
   "execution_count": 0,
   "metadata": {
    "colab": {},
    "colab_type": "code",
    "id": "gcz3wDZ9Jks7",
    "outputId": "b586a680-2298-456d-febc-151dbfb4813c"
   },
   "outputs": [
    {
     "name": "stdout",
     "output_type": "stream",
     "text": [
      "Deneme0\n",
      "\n",
      "Deneme1\n",
      "\n",
      "['Deneme0\\n', 'Deneme1\\n', 'Deneme2\\n', 'Deneme3 f.write() kullanarak']\n"
     ]
    }
   ],
   "source": [
    "f.seek(0)\n",
    "print(f.readline())\n",
    "print(f.readline())\n",
    "\n",
    "f.seek(0)\n",
    "print(f.readlines())\n",
    "\n",
    "f.close()"
   ]
  },
  {
   "cell_type": "code",
   "execution_count": 0,
   "metadata": {
    "colab": {},
    "colab_type": "code",
    "id": "qDy-qComJks8"
   },
   "outputs": [],
   "source": [
    "with open('test.txt', 'r+') as f:\n",
    "    print(f.read())\n",
    "    f.write('Deneme 4 with open() kullanarak')"
   ]
  },
  {
   "cell_type": "markdown",
   "metadata": {
    "colab_type": "text",
    "id": "XTtGXdC8Jks9"
   },
   "source": [
    "___\n",
    "## Döngüler ( Loops )"
   ]
  },
  {
   "cell_type": "code",
   "execution_count": 0,
   "metadata": {
    "colab": {},
    "colab_type": "code",
    "id": "zSxVMO7dJks9"
   },
   "outputs": [],
   "source": [
    "a = 5\n",
    "\n",
    "while a < 10:\n",
    "    print(a)\n",
    "    a += 1"
   ]
  },
  {
   "cell_type": "code",
   "execution_count": 0,
   "metadata": {
    "colab": {},
    "colab_type": "code",
    "id": "GETqbjwpJks-",
    "outputId": "e235d4bb-7cb6-4ffc-f400-bfd759a3183a"
   },
   "outputs": [
    {
     "name": "stdout",
     "output_type": "stream",
     "text": [
      "O\n",
      "ğ\n",
      "u\n",
      "z\n",
      " \n",
      "A\n",
      "T\n",
      "A\n",
      "Y\n"
     ]
    }
   ],
   "source": [
    "isim = \"Oğuz ATAY\"\n",
    "for harf in isim:\n",
    "    print(harf)"
   ]
  },
  {
   "cell_type": "markdown",
   "metadata": {
    "colab_type": "text",
    "id": "DSTZe9HZJks_"
   },
   "source": [
    "___\n",
    "#### range, break, continue, pass statements\n",
    "___"
   ]
  },
  {
   "cell_type": "code",
   "execution_count": 0,
   "metadata": {
    "colab": {},
    "colab_type": "code",
    "id": "9VaEuTCTJks_",
    "outputId": "b7c3900b-22d5-4fb1-90f8-a9f5d133ab98"
   },
   "outputs": [
    {
     "name": "stdout",
     "output_type": "stream",
     "text": [
      "2 4 6 8 "
     ]
    }
   ],
   "source": [
    "for i in range(2, 10, 2):\n",
    "    print(i, end=\" \")"
   ]
  },
  {
   "cell_type": "code",
   "execution_count": 0,
   "metadata": {
    "colab": {},
    "colab_type": "code",
    "id": "0siOxWwaJktB",
    "outputId": "8e9ec0e9-6c66-40b8-e79b-f8574c940ef3"
   },
   "outputs": [
    {
     "name": "stdout",
     "output_type": "stream",
     "text": [
      "0 1 2 3 4 5 "
     ]
    }
   ],
   "source": [
    "for i in range(10):\n",
    "    print(i, end=\" \")\n",
    "    if i == 5:\n",
    "        break"
   ]
  },
  {
   "cell_type": "code",
   "execution_count": 0,
   "metadata": {
    "colab": {},
    "colab_type": "code",
    "id": "M0V6IR9pJktE",
    "outputId": "dacfcbe0-0558-4751-fe27-f94158aa8793"
   },
   "outputs": [
    {
     "name": "stdout",
     "output_type": "stream",
     "text": [
      "0 1 2 3 4 6 7 8 9 "
     ]
    }
   ],
   "source": [
    "for i in range(10):\n",
    "    if i == 5:\n",
    "        continue\n",
    "    print(i, end=\" \")"
   ]
  },
  {
   "cell_type": "code",
   "execution_count": 0,
   "metadata": {
    "colab": {},
    "colab_type": "code",
    "id": "g0v7IX64JktG",
    "outputId": "100abf84-b976-427f-bacd-eb6f0931658a"
   },
   "outputs": [
    {
     "name": "stdout",
     "output_type": "stream",
     "text": [
      "0 1 2 3 4 5 6 7 8 9 "
     ]
    }
   ],
   "source": [
    "for i in range(10):\n",
    "    if i == 5:\n",
    "        pass\n",
    "    print(i, end=\" \")"
   ]
  },
  {
   "cell_type": "code",
   "execution_count": 0,
   "metadata": {
    "colab": {},
    "colab_type": "code",
    "id": "ZDm4QzVxJktH",
    "outputId": "500cfa0a-2570-45e7-c7ee-66044a9c8fab"
   },
   "outputs": [
    {
     "ename": "KeyboardInterrupt",
     "evalue": "",
     "output_type": "error",
     "traceback": [
      "\u001b[0;31m---------------------------------------------------------------------------\u001b[0m",
      "\u001b[0;31mKeyboardInterrupt\u001b[0m                         Traceback (most recent call last)",
      "\u001b[0;32m~/.pyenv/versions/3.8.1/lib/python3.8/site-packages/ipykernel/kernelbase.py\u001b[0m in \u001b[0;36m_input_request\u001b[0;34m(self, prompt, ident, parent, password)\u001b[0m\n\u001b[1;32m    883\u001b[0m             \u001b[0;32mtry\u001b[0m\u001b[0;34m:\u001b[0m\u001b[0;34m\u001b[0m\u001b[0;34m\u001b[0m\u001b[0m\n\u001b[0;32m--> 884\u001b[0;31m                 \u001b[0mident\u001b[0m\u001b[0;34m,\u001b[0m \u001b[0mreply\u001b[0m \u001b[0;34m=\u001b[0m \u001b[0mself\u001b[0m\u001b[0;34m.\u001b[0m\u001b[0msession\u001b[0m\u001b[0;34m.\u001b[0m\u001b[0mrecv\u001b[0m\u001b[0;34m(\u001b[0m\u001b[0mself\u001b[0m\u001b[0;34m.\u001b[0m\u001b[0mstdin_socket\u001b[0m\u001b[0;34m,\u001b[0m \u001b[0;36m0\u001b[0m\u001b[0;34m)\u001b[0m\u001b[0;34m\u001b[0m\u001b[0;34m\u001b[0m\u001b[0m\n\u001b[0m\u001b[1;32m    885\u001b[0m             \u001b[0;32mexcept\u001b[0m \u001b[0mException\u001b[0m\u001b[0;34m:\u001b[0m\u001b[0;34m\u001b[0m\u001b[0;34m\u001b[0m\u001b[0m\n",
      "\u001b[0;32m~/.pyenv/versions/3.8.1/lib/python3.8/site-packages/jupyter_client/session.py\u001b[0m in \u001b[0;36mrecv\u001b[0;34m(self, socket, mode, content, copy)\u001b[0m\n\u001b[1;32m    802\u001b[0m         \u001b[0;32mtry\u001b[0m\u001b[0;34m:\u001b[0m\u001b[0;34m\u001b[0m\u001b[0;34m\u001b[0m\u001b[0m\n\u001b[0;32m--> 803\u001b[0;31m             \u001b[0mmsg_list\u001b[0m \u001b[0;34m=\u001b[0m \u001b[0msocket\u001b[0m\u001b[0;34m.\u001b[0m\u001b[0mrecv_multipart\u001b[0m\u001b[0;34m(\u001b[0m\u001b[0mmode\u001b[0m\u001b[0;34m,\u001b[0m \u001b[0mcopy\u001b[0m\u001b[0;34m=\u001b[0m\u001b[0mcopy\u001b[0m\u001b[0;34m)\u001b[0m\u001b[0;34m\u001b[0m\u001b[0;34m\u001b[0m\u001b[0m\n\u001b[0m\u001b[1;32m    804\u001b[0m         \u001b[0;32mexcept\u001b[0m \u001b[0mzmq\u001b[0m\u001b[0;34m.\u001b[0m\u001b[0mZMQError\u001b[0m \u001b[0;32mas\u001b[0m \u001b[0me\u001b[0m\u001b[0;34m:\u001b[0m\u001b[0;34m\u001b[0m\u001b[0;34m\u001b[0m\u001b[0m\n",
      "\u001b[0;32m~/.pyenv/versions/3.8.1/lib/python3.8/site-packages/zmq/sugar/socket.py\u001b[0m in \u001b[0;36mrecv_multipart\u001b[0;34m(self, flags, copy, track)\u001b[0m\n\u001b[1;32m    474\u001b[0m         \"\"\"\n\u001b[0;32m--> 475\u001b[0;31m         \u001b[0mparts\u001b[0m \u001b[0;34m=\u001b[0m \u001b[0;34m[\u001b[0m\u001b[0mself\u001b[0m\u001b[0;34m.\u001b[0m\u001b[0mrecv\u001b[0m\u001b[0;34m(\u001b[0m\u001b[0mflags\u001b[0m\u001b[0;34m,\u001b[0m \u001b[0mcopy\u001b[0m\u001b[0;34m=\u001b[0m\u001b[0mcopy\u001b[0m\u001b[0;34m,\u001b[0m \u001b[0mtrack\u001b[0m\u001b[0;34m=\u001b[0m\u001b[0mtrack\u001b[0m\u001b[0;34m)\u001b[0m\u001b[0;34m]\u001b[0m\u001b[0;34m\u001b[0m\u001b[0;34m\u001b[0m\u001b[0m\n\u001b[0m\u001b[1;32m    476\u001b[0m         \u001b[0;31m# have first part already, only loop while more to receive\u001b[0m\u001b[0;34m\u001b[0m\u001b[0;34m\u001b[0m\u001b[0;34m\u001b[0m\u001b[0m\n",
      "\u001b[0;32mzmq/backend/cython/socket.pyx\u001b[0m in \u001b[0;36mzmq.backend.cython.socket.Socket.recv\u001b[0;34m()\u001b[0m\n",
      "\u001b[0;32mzmq/backend/cython/socket.pyx\u001b[0m in \u001b[0;36mzmq.backend.cython.socket.Socket.recv\u001b[0;34m()\u001b[0m\n",
      "\u001b[0;32mzmq/backend/cython/socket.pyx\u001b[0m in \u001b[0;36mzmq.backend.cython.socket._recv_copy\u001b[0;34m()\u001b[0m\n",
      "\u001b[0;32m~/.pyenv/versions/3.8.1/lib/python3.8/site-packages/zmq/backend/cython/checkrc.pxd\u001b[0m in \u001b[0;36mzmq.backend.cython.checkrc._check_rc\u001b[0;34m()\u001b[0m\n",
      "\u001b[0;31mKeyboardInterrupt\u001b[0m: ",
      "\nDuring handling of the above exception, another exception occurred:\n",
      "\u001b[0;31mKeyboardInterrupt\u001b[0m                         Traceback (most recent call last)",
      "\u001b[0;32m<ipython-input-60-1898a73a1389>\u001b[0m in \u001b[0;36m<module>\u001b[0;34m\u001b[0m\n\u001b[1;32m      3\u001b[0m \u001b[0;34m\u001b[0m\u001b[0m\n\u001b[1;32m      4\u001b[0m \u001b[0;32mwhile\u001b[0m \u001b[0;32mTrue\u001b[0m\u001b[0;34m:\u001b[0m\u001b[0;34m\u001b[0m\u001b[0;34m\u001b[0m\u001b[0m\n\u001b[0;32m----> 5\u001b[0;31m     \u001b[0msorulan_kullanıcı\u001b[0m \u001b[0;34m=\u001b[0m \u001b[0minput\u001b[0m\u001b[0;34m(\u001b[0m\u001b[0;34m\"Kullanıcı adınız:\"\u001b[0m\u001b[0;34m)\u001b[0m\u001b[0;34m\u001b[0m\u001b[0;34m\u001b[0m\u001b[0m\n\u001b[0m\u001b[1;32m      6\u001b[0m     \u001b[0msorulan_şifre\u001b[0m \u001b[0;34m=\u001b[0m \u001b[0minput\u001b[0m\u001b[0;34m(\u001b[0m\u001b[0;34m\"Şifreniz:\"\u001b[0m\u001b[0;34m)\u001b[0m\u001b[0;34m\u001b[0m\u001b[0;34m\u001b[0m\u001b[0m\n\u001b[1;32m      7\u001b[0m \u001b[0;34m\u001b[0m\u001b[0m\n",
      "\u001b[0;32m~/.pyenv/versions/3.8.1/lib/python3.8/site-packages/ipykernel/kernelbase.py\u001b[0m in \u001b[0;36mraw_input\u001b[0;34m(self, prompt)\u001b[0m\n\u001b[1;32m    854\u001b[0m                 \u001b[0;34m\"raw_input was called, but this frontend does not support input requests.\"\u001b[0m\u001b[0;34m\u001b[0m\u001b[0;34m\u001b[0m\u001b[0m\n\u001b[1;32m    855\u001b[0m             )\n\u001b[0;32m--> 856\u001b[0;31m         return self._input_request(str(prompt),\n\u001b[0m\u001b[1;32m    857\u001b[0m             \u001b[0mself\u001b[0m\u001b[0;34m.\u001b[0m\u001b[0m_parent_ident\u001b[0m\u001b[0;34m,\u001b[0m\u001b[0;34m\u001b[0m\u001b[0;34m\u001b[0m\u001b[0m\n\u001b[1;32m    858\u001b[0m             \u001b[0mself\u001b[0m\u001b[0;34m.\u001b[0m\u001b[0m_parent_header\u001b[0m\u001b[0;34m,\u001b[0m\u001b[0;34m\u001b[0m\u001b[0;34m\u001b[0m\u001b[0m\n",
      "\u001b[0;32m~/.pyenv/versions/3.8.1/lib/python3.8/site-packages/ipykernel/kernelbase.py\u001b[0m in \u001b[0;36m_input_request\u001b[0;34m(self, prompt, ident, parent, password)\u001b[0m\n\u001b[1;32m    887\u001b[0m             \u001b[0;32mexcept\u001b[0m \u001b[0mKeyboardInterrupt\u001b[0m\u001b[0;34m:\u001b[0m\u001b[0;34m\u001b[0m\u001b[0;34m\u001b[0m\u001b[0m\n\u001b[1;32m    888\u001b[0m                 \u001b[0;31m# re-raise KeyboardInterrupt, to truncate traceback\u001b[0m\u001b[0;34m\u001b[0m\u001b[0;34m\u001b[0m\u001b[0;34m\u001b[0m\u001b[0m\n\u001b[0;32m--> 889\u001b[0;31m                 \u001b[0;32mraise\u001b[0m \u001b[0mKeyboardInterrupt\u001b[0m\u001b[0;34m\u001b[0m\u001b[0;34m\u001b[0m\u001b[0m\n\u001b[0m\u001b[1;32m    890\u001b[0m             \u001b[0;32melse\u001b[0m\u001b[0;34m:\u001b[0m\u001b[0;34m\u001b[0m\u001b[0;34m\u001b[0m\u001b[0m\n\u001b[1;32m    891\u001b[0m                 \u001b[0;32mbreak\u001b[0m\u001b[0;34m\u001b[0m\u001b[0;34m\u001b[0m\u001b[0m\n",
      "\u001b[0;31mKeyboardInterrupt\u001b[0m: "
     ]
    }
   ],
   "source": [
    "gerçek_kullanıcı = \"test\"\n",
    "gerçek_şifre = \"test\"\n",
    "\n",
    "while True:\n",
    "    sorulan_kullanıcı = input(\"Kullanıcı adınız:\")\n",
    "    sorulan_şifre = input(\"Şifreniz:\")\n",
    "    \n",
    "    if gerçek_şifre == sorulan_şifre and gerçek_kullanıcı == sorulan_kullanıcı:\n",
    "        print(\"Giriş başarılı!\")\n",
    "        break\n",
    "    elif not sorulan_kullanıcı:\n",
    "        print(\"Kullanıcı adı alanı boş olamaz!\")\n",
    "    elif not sorulan_şifre:\n",
    "        print(\"Şifre alanı boş olamaz!\")\n",
    "    else:\n",
    "        print(\"Kullanıcı adı veya şifre yanlış!\")\n",
    "    \n",
    "    print(\"*\"*30)"
   ]
  },
  {
   "cell_type": "markdown",
   "metadata": {
    "colab_type": "text",
    "id": "ybZhmq0MJktI"
   },
   "source": [
    "___\n",
    "## Hata Yakalama Try/Except/Finally ( Exception Handling )"
   ]
  },
  {
   "cell_type": "markdown",
   "metadata": {
    "colab_type": "text",
    "id": "73JXTr5QJktI"
   },
   "source": [
    "|Error Name| Description|\n",
    "| --------------------------------------|:----------------------:|\n",
    "|AssertionError|Raised when the assert statement fails.|\n",
    "|AttributeError|Raised on the attribute assignment or reference fails.|\n",
    "|EOFError|Raised when the input() function hits the end-of-file condition.|\n",
    "|FloatingPointError|Raised when a floating point operation fails.|\n",
    "|GeneratorExit|Raised when a generator's close() method is called.|\n",
    "|ImportError|Raised when the imported module is not found.|\n",
    "|IndexError|Raised when the index of a sequence is out of range.|\n",
    "|KeyError|Raised when a key is not found in a dictionary.|\n",
    "|KeyboardInterrupt|Raised when the user hits the interrupt key (Ctrl+c or delete).|\n",
    "|MemoryError|Raised when an operation runs out of memory.|\n",
    "|NameError|Raised when a variable is not found in the local or global scope.|\n",
    "|NotImplementedError|Raised by abstract methods.|\n",
    "|OSError|Raised when a system operation causes a system-related error.|\n",
    "|OverflowError|Raised when the result of an arithmetic operation is too large to be represented.|\n",
    "|ReferenceError|Raised when a weak reference proxy is used to access a garbage collected referent.|\n",
    "|RuntimeError|Raised when an error does not fall under any other category.|\n",
    "|StopIteration|Raised by the next() function to indicate that there is no further item to be returned by the iterator.|\n",
    "|SyntaxError|Raised by the parser when a syntax error is encountered.|\n",
    "|IndentationError|Raised when there is an incorrect indentation.|\n",
    "|TabError|Raised when the indentation consists of inconsistent tabs and spaces.|\n",
    "|SystemError|Raised when the interpreter detects internal error.|\n",
    "|SystemExit|Raised by the sys.exit() function.|\n",
    "|TypeError|Raised when a function or operation is applied to an object of an incorrect type.|\n",
    "|UnboundLocalError|Raised when a reference is made to a local variable in a function or method, but no value has been bound to that variable.|\n",
    "|UnicodeError|Raised when a Unicode-related encoding or decoding error occurs.|\n",
    "|UnicodeEncodeError|Raised when a Unicode-related error occurs during encoding.|\n",
    "|UnicodeDecodeError|Raised when a Unicode-related error occurs during decoding.|\n",
    "|UnicodeTranslateError|Raised when a Unicode-related error occurs during translation.|\n",
    "|ValueError|Raised when a function gets an argument of correct type but improper value.|\n",
    "|ZeroDivisionError|Raised when the second operand of a division or module operation is zero.|"
   ]
  },
  {
   "cell_type": "code",
   "execution_count": 0,
   "metadata": {
    "colab": {},
    "colab_type": "code",
    "id": "p0ldUImfJktJ",
    "outputId": "97d807d3-d296-4d15-b554-378ec0e655c0"
   },
   "outputs": [
    {
     "name": "stdout",
     "output_type": "stream",
     "text": [
      "Bölünecek sayıyı giriniz:abc\n",
      "Bir hata meydana geldi!\n"
     ]
    }
   ],
   "source": [
    "try:\n",
    "    sayı1 = int(input(\"Bölünecek sayıyı giriniz:\"))\n",
    "    sayı2 = int(input(\"Bölecek sayıyı giriniz:\"))\n",
    "    sonuc = sayı1 / sayı2\n",
    "    print(sonuc)\n",
    "    \n",
    "except ZeroDivisionError:\n",
    "    print(\"Herhangi bir sayı sıfıra bölünemez!\")\n",
    "\n",
    "except KeyboardInterrupt:\n",
    "    print(\"Klavye ile müdahale oldu!\")\n",
    "    \n",
    "except:\n",
    "    print(\"Bir hata meydana geldi!\")"
   ]
  },
  {
   "cell_type": "code",
   "execution_count": 0,
   "metadata": {
    "colab": {},
    "colab_type": "code",
    "id": "_29AMcL4JktK",
    "outputId": "82de30a3-a03c-40ad-8703-2865aeb0564d"
   },
   "outputs": [
    {
     "name": "stdout",
     "output_type": "stream",
     "text": [
      "Yaşınızı girin:-12\n"
     ]
    },
    {
     "ename": "Exception",
     "evalue": "Yaşınız negatif bir sayı olamaz!",
     "output_type": "error",
     "traceback": [
      "\u001b[0;31m---------------------------------------------------------------------------\u001b[0m",
      "\u001b[0;31mException\u001b[0m                                 Traceback (most recent call last)",
      "\u001b[0;32m<ipython-input-70-514347576ca1>\u001b[0m in \u001b[0;36m<module>\u001b[0;34m\u001b[0m\n\u001b[1;32m      1\u001b[0m \u001b[0myaş\u001b[0m \u001b[0;34m=\u001b[0m \u001b[0mint\u001b[0m\u001b[0;34m(\u001b[0m\u001b[0minput\u001b[0m\u001b[0;34m(\u001b[0m\u001b[0;34m\"Yaşınızı girin:\"\u001b[0m\u001b[0;34m)\u001b[0m\u001b[0;34m)\u001b[0m\u001b[0;34m\u001b[0m\u001b[0;34m\u001b[0m\u001b[0m\n\u001b[1;32m      2\u001b[0m \u001b[0;32mif\u001b[0m \u001b[0myaş\u001b[0m \u001b[0;34m<\u001b[0m \u001b[0;36m0\u001b[0m\u001b[0;34m:\u001b[0m\u001b[0;34m\u001b[0m\u001b[0;34m\u001b[0m\u001b[0m\n\u001b[0;32m----> 3\u001b[0;31m     \u001b[0;32mraise\u001b[0m \u001b[0mException\u001b[0m\u001b[0;34m(\u001b[0m\u001b[0;34m\"Yaşınız negatif bir sayı olamaz!\"\u001b[0m\u001b[0;34m)\u001b[0m\u001b[0;34m\u001b[0m\u001b[0;34m\u001b[0m\u001b[0m\n\u001b[0m\u001b[1;32m      4\u001b[0m \u001b[0mprint\u001b[0m\u001b[0;34m(\u001b[0m\u001b[0myaş\u001b[0m\u001b[0;34m)\u001b[0m\u001b[0;34m\u001b[0m\u001b[0;34m\u001b[0m\u001b[0m\n",
      "\u001b[0;31mException\u001b[0m: Yaşınız negatif bir sayı olamaz!"
     ]
    }
   ],
   "source": [
    "yaş = int(input(\"Yaşınızı girin:\"))\n",
    "if yaş < 0:\n",
    "    raise Exception(\"Yaşınız negatif bir sayı olamaz!\")\n",
    "print(yaş)"
   ]
  },
  {
   "cell_type": "markdown",
   "metadata": {
    "colab_type": "text",
    "id": "R2cdGsXhJktM"
   },
   "source": [
    "## Listeler ve Demetler ( Lists and Tuples )"
   ]
  },
  {
   "cell_type": "code",
   "execution_count": 0,
   "metadata": {
    "colab": {},
    "colab_type": "code",
    "id": "0c-YarJsJktM",
    "outputId": "6d9f8591-eb03-4019-94d2-78e384b8e72b",
    "scrolled": true
   },
   "outputs": [
    {
     "name": "stdout",
     "output_type": "stream",
     "text": [
      "[] 0\n",
      "[10] 1\n",
      "[10, 20, 30, 40] 4\n"
     ]
    }
   ],
   "source": [
    "liste1 = []\n",
    "liste1 = list()\n",
    "print(liste1, len(liste1))\n",
    "\n",
    "liste1.append(10)\n",
    "print(liste1, len(liste1))\n",
    "\n",
    "liste1.append(20)\n",
    "liste1.append(30)\n",
    "liste1.append(40)\n",
    "print(liste1, len(liste1))"
   ]
  },
  {
   "cell_type": "code",
   "execution_count": 0,
   "metadata": {
    "colab": {},
    "colab_type": "code",
    "id": "85ZD6NSGJktN",
    "outputId": "3545a01d-bc13-4059-9973-666e5e2e7123"
   },
   "outputs": [
    {
     "name": "stdout",
     "output_type": "stream",
     "text": [
      "10\n",
      "30\n",
      "40\n",
      "[40, 30, 20, 10]\n"
     ]
    }
   ],
   "source": [
    "print(liste1[0])\n",
    "print(liste1[2])\n",
    "print(liste1[-1])\n",
    "\n",
    "#liste[başlangıç: bitiş: artış]\n",
    "print(liste1[::-1])"
   ]
  },
  {
   "cell_type": "code",
   "execution_count": 0,
   "metadata": {
    "colab": {},
    "colab_type": "code",
    "id": "GV9zQUhzJktO",
    "outputId": "6e790ffe-0270-4cda-c532-c898f3900102"
   },
   "outputs": [
    {
     "name": "stdout",
     "output_type": "stream",
     "text": [
      "[99, 99, 10, 20, 30, 40]\n"
     ]
    }
   ],
   "source": [
    "liste1.insert(0, 99)\n",
    "print(liste1)"
   ]
  },
  {
   "cell_type": "code",
   "execution_count": 0,
   "metadata": {
    "colab": {},
    "colab_type": "code",
    "id": "iswTCZO_JktP",
    "outputId": "2ff432e2-2260-4084-fad1-d6b7f5ede07a"
   },
   "outputs": [
    {
     "name": "stdout",
     "output_type": "stream",
     "text": [
      "[99, 99, 10, 20, 30]\n"
     ]
    }
   ],
   "source": [
    "liste1.pop()\n",
    "print(liste1)"
   ]
  },
  {
   "cell_type": "code",
   "execution_count": 0,
   "metadata": {
    "colab": {},
    "colab_type": "code",
    "id": "qmDW_vdVJktR",
    "outputId": "19f4bad7-d6b6-4c6f-b157-9143c01f1d2d"
   },
   "outputs": [
    {
     "name": "stdout",
     "output_type": "stream",
     "text": [
      "[99, 10, 20, 30] 99\n"
     ]
    }
   ],
   "source": [
    "silinen = liste1.pop(0)\n",
    "print(liste1, silinen)"
   ]
  },
  {
   "cell_type": "code",
   "execution_count": 0,
   "metadata": {
    "colab": {},
    "colab_type": "code",
    "id": "Blji52wAJktR",
    "outputId": "79bb0c37-292b-4368-8856-ef5041d5aea1"
   },
   "outputs": [
    {
     "name": "stdout",
     "output_type": "stream",
     "text": [
      "[99, 10, 20]\n"
     ]
    }
   ],
   "source": [
    "liste1.remove(30)\n",
    "print(liste1)"
   ]
  },
  {
   "cell_type": "code",
   "execution_count": 0,
   "metadata": {
    "colab": {},
    "colab_type": "code",
    "id": "nFIyZkc6JktS",
    "outputId": "958a7055-3aee-477e-eab0-01e9f03f80ae"
   },
   "outputs": [
    {
     "name": "stdout",
     "output_type": "stream",
     "text": [
      "[2, 0, 1, 7] [4, 3, 2, 8]\n",
      "[2, 0, 1, 7, 4, 3, 2, 8]\n"
     ]
    }
   ],
   "source": [
    "liste1 = [2, 0, 1, 7]\n",
    "liste2 = [4, 3, 2, 8]\n",
    "print(liste1, liste2)\n",
    "\n",
    "liste1.extend(liste2)\n",
    "print(liste1)"
   ]
  },
  {
   "cell_type": "code",
   "execution_count": 0,
   "metadata": {
    "colab": {},
    "colab_type": "code",
    "id": "mtY-opU2JktT",
    "outputId": "821677ce-d272-414f-d442-9c87c5c6e145"
   },
   "outputs": [
    {
     "name": "stdout",
     "output_type": "stream",
     "text": [
      "[0, 1, 2, 2, 3, 4, 7, 8]\n"
     ]
    }
   ],
   "source": [
    "sorted(liste1)\n",
    "print(liste1)"
   ]
  },
  {
   "cell_type": "code",
   "execution_count": 0,
   "metadata": {
    "colab": {},
    "colab_type": "code",
    "id": "iWKGSMNrJktX",
    "outputId": "d38657c1-c8b6-4230-8640-e1e03c9a97c2"
   },
   "outputs": [
    {
     "name": "stdout",
     "output_type": "stream",
     "text": [
      "[0, 1, 2, 2, 3, 4, 7, 8]\n"
     ]
    }
   ],
   "source": [
    "liste1.sort()\n",
    "print(liste1)"
   ]
  },
  {
   "cell_type": "code",
   "execution_count": 0,
   "metadata": {
    "colab": {},
    "colab_type": "code",
    "id": "ZiU2q5dkJktY",
    "outputId": "6771b1b8-7a38-42cf-e673-c75355a1024f"
   },
   "outputs": [
    {
     "name": "stdout",
     "output_type": "stream",
     "text": [
      "Aranacak kelime:Elma\n",
      "0\n"
     ]
    }
   ],
   "source": [
    "liste1 = [\"Elma\", \"Armut\", \"Tilki\", \"Kuş\", \"Armut\", \"Çiçek\"]\n",
    "index = liste1.index(input(\"Aranacak kelime:\"))\n",
    "print(index)"
   ]
  },
  {
   "cell_type": "code",
   "execution_count": 0,
   "metadata": {
    "colab": {},
    "colab_type": "code",
    "id": "7NIlPY-fJktZ",
    "outputId": "008ebac4-11e8-45c8-fca9-d59263f91a1d"
   },
   "outputs": [
    {
     "name": "stdout",
     "output_type": "stream",
     "text": [
      "Sayısını bulunacak kelime:a\n",
      "0\n"
     ]
    }
   ],
   "source": [
    "liste1 = [\"Elma\", \"Armut\", \"Tilki\", \"Kuş\", \"Armut\", \"Çiçek\"]\n",
    "sayaç = liste1.count(input(\"Sayısını bulunacak kelime:\"))\n",
    "print(sayaç)"
   ]
  },
  {
   "cell_type": "code",
   "execution_count": 0,
   "metadata": {
    "colab": {},
    "colab_type": "code",
    "id": "P73rgRh5Jkta",
    "outputId": "a8e00659-5f07-4ab2-9c3e-08b1eaa1cd8e"
   },
   "outputs": [
    {
     "name": "stdout",
     "output_type": "stream",
     "text": [
      "['Elma', 'Armut', 'Tilki', 'Kuş', 'Armut', 'Çiçek']\n"
     ]
    }
   ],
   "source": [
    "yeni_liste = liste1\n",
    "print(yeni_liste)"
   ]
  },
  {
   "cell_type": "code",
   "execution_count": 0,
   "metadata": {
    "colab": {},
    "colab_type": "code",
    "id": "G3pXgkgfJktb",
    "outputId": "e129125d-39e2-4c3d-9a51-b134d271720f"
   },
   "outputs": [
    {
     "name": "stdout",
     "output_type": "stream",
     "text": [
      "['Muz', 'Armut', 'Tilki', 'Kuş', 'Armut', 'Çiçek']\n",
      "['Muz', 'Armut', 'Tilki', 'Kuş', 'Armut', 'Çiçek']\n",
      "4404889856\n",
      "4404889856\n"
     ]
    }
   ],
   "source": [
    "yeni_liste[0] = \"Muz\"\n",
    "print(yeni_liste)\n",
    "print(liste1)\n",
    "\n",
    "print(id(yeni_liste))\n",
    "print(id(liste1))"
   ]
  },
  {
   "cell_type": "code",
   "execution_count": 0,
   "metadata": {
    "colab": {},
    "colab_type": "code",
    "id": "OfbK-RcJJktc"
   },
   "outputs": [],
   "source": [
    "liste1 = [\"Elma\", \"Armut\", \"Tilki\", \"Kuş\", \"Armut\", \"Çiçek\"]\n",
    "yeni_liste = liste1.copy()"
   ]
  },
  {
   "cell_type": "code",
   "execution_count": 0,
   "metadata": {
    "colab": {},
    "colab_type": "code",
    "id": "82GNZr_pJktd",
    "outputId": "facaaf89-1722-42e6-a522-58cfd540b0b6"
   },
   "outputs": [
    {
     "name": "stdout",
     "output_type": "stream",
     "text": [
      "['Muz', 'Armut', 'Tilki', 'Kuş', 'Armut', 'Çiçek']\n",
      "['Elma', 'Armut', 'Tilki', 'Kuş', 'Armut', 'Çiçek']\n",
      "4404353472\n",
      "4404714112\n"
     ]
    }
   ],
   "source": [
    "yeni_liste[0] = \"Muz\"\n",
    "print(yeni_liste)\n",
    "print(liste1)\n",
    "\n",
    "print(id(yeni_liste))\n",
    "print(id(liste1))"
   ]
  },
  {
   "cell_type": "code",
   "execution_count": 0,
   "metadata": {
    "colab": {},
    "colab_type": "code",
    "id": "Gwn-FJsGJkte"
   },
   "outputs": [],
   "source": [
    "liste3 = [\"John\", 1, \"Doe\", 2.56, \"Oğuz\", (55+5j), \"ATAY\"]"
   ]
  },
  {
   "cell_type": "code",
   "execution_count": 0,
   "metadata": {
    "colab": {},
    "colab_type": "code",
    "id": "llU04U0DJktf",
    "outputId": "6f6f1929-05ea-4d5f-ced9-301bb1563791"
   },
   "outputs": [
    {
     "name": "stdout",
     "output_type": "stream",
     "text": [
      "John <class 'str'>\n",
      "1 <class 'int'>\n",
      "Doe <class 'str'>\n",
      "2.56 <class 'float'>\n",
      "Oğuz <class 'str'>\n",
      "(55+5j) <class 'complex'>\n",
      "ATAY <class 'str'>\n"
     ]
    }
   ],
   "source": [
    "for i in liste3:\n",
    "    print(i, type(i))"
   ]
  },
  {
   "cell_type": "code",
   "execution_count": 0,
   "metadata": {
    "colab": {},
    "colab_type": "code",
    "id": "LPNLqjqJJktg",
    "outputId": "fd9d6795-4ebc-4ccb-ad60-90bd77219740"
   },
   "outputs": [
    {
     "name": "stdout",
     "output_type": "stream",
     "text": [
      "[1, 2, 3, 4]\n",
      "[9, 8, 7, 6]\n",
      "[0, 6, 5, 2]\n"
     ]
    }
   ],
   "source": [
    "matrix = [\n",
    "    [1, 2, 3, 4],\n",
    "    [9, 8, 7, 6],\n",
    "    [0, 6, 5, 2]\n",
    "]\n",
    "\n",
    "for satır in matrix:\n",
    "    for sütun in satır:\n",
    "        print(sütun, end=\" \")\n",
    "    print()"
   ]
  },
  {
   "cell_type": "code",
   "execution_count": 0,
   "metadata": {
    "colab": {},
    "colab_type": "code",
    "id": "5DymGnTAJkth",
    "outputId": "1dd3755f-d06d-4c31-aeb1-64f8ae745330",
    "scrolled": true
   },
   "outputs": [
    {
     "name": "stdout",
     "output_type": "stream",
     "text": [
      "2\n",
      "1\n",
      "Help on tuple object:\n",
      "\n",
      "class tuple(object)\n",
      " |  tuple(iterable=(), /)\n",
      " |  \n",
      " |  Built-in immutable sequence.\n",
      " |  \n",
      " |  If no argument is given, the constructor returns an empty tuple.\n",
      " |  If iterable is specified the tuple is initialized from iterable's items.\n",
      " |  \n",
      " |  If the argument is a tuple, the return value is the same object.\n",
      " |  \n",
      " |  Built-in subclasses:\n",
      " |      asyncgen_hooks\n",
      " |      UnraisableHookArgs\n",
      " |  \n",
      " |  Methods defined here:\n",
      " |  \n",
      " |  __add__(self, value, /)\n",
      " |      Return self+value.\n",
      " |  \n",
      " |  __contains__(self, key, /)\n",
      " |      Return key in self.\n",
      " |  \n",
      " |  __eq__(self, value, /)\n",
      " |      Return self==value.\n",
      " |  \n",
      " |  __ge__(self, value, /)\n",
      " |      Return self>=value.\n",
      " |  \n",
      " |  __getattribute__(self, name, /)\n",
      " |      Return getattr(self, name).\n",
      " |  \n",
      " |  __getitem__(self, key, /)\n",
      " |      Return self[key].\n",
      " |  \n",
      " |  __getnewargs__(self, /)\n",
      " |  \n",
      " |  __gt__(self, value, /)\n",
      " |      Return self>value.\n",
      " |  \n",
      " |  __hash__(self, /)\n",
      " |      Return hash(self).\n",
      " |  \n",
      " |  __iter__(self, /)\n",
      " |      Implement iter(self).\n",
      " |  \n",
      " |  __le__(self, value, /)\n",
      " |      Return self<=value.\n",
      " |  \n",
      " |  __len__(self, /)\n",
      " |      Return len(self).\n",
      " |  \n",
      " |  __lt__(self, value, /)\n",
      " |      Return self<value.\n",
      " |  \n",
      " |  __mul__(self, value, /)\n",
      " |      Return self*value.\n",
      " |  \n",
      " |  __ne__(self, value, /)\n",
      " |      Return self!=value.\n",
      " |  \n",
      " |  __repr__(self, /)\n",
      " |      Return repr(self).\n",
      " |  \n",
      " |  __rmul__(self, value, /)\n",
      " |      Return value*self.\n",
      " |  \n",
      " |  count(self, value, /)\n",
      " |      Return number of occurrences of value.\n",
      " |  \n",
      " |  index(self, value, start=0, stop=9223372036854775807, /)\n",
      " |      Return first index of value.\n",
      " |      \n",
      " |      Raises ValueError if the value is not present.\n",
      " |  \n",
      " |  ----------------------------------------------------------------------\n",
      " |  Static methods defined here:\n",
      " |  \n",
      " |  __new__(*args, **kwargs) from builtins.type\n",
      " |      Create and return a new object.  See help(type) for accurate signature.\n",
      "\n"
     ]
    }
   ],
   "source": [
    "demet = ()\n",
    "demet = tuple()\n",
    "demet = (10, 20, 25, 30, 35, 40, 35)\n",
    "\n",
    "index = demet.index(25)\n",
    "print(index)\n",
    "\n",
    "sayaç = demet.count(20)\n",
    "print(sayaç)\n",
    "\n",
    "help(tuple())"
   ]
  },
  {
   "cell_type": "markdown",
   "metadata": {
    "colab_type": "text",
    "id": "sip1s0KPJkth"
   },
   "source": [
    "### Matematiksel Fonksiyonlar ( Mathematical Functions ) "
   ]
  },
  {
   "cell_type": "code",
   "execution_count": 0,
   "metadata": {
    "colab": {},
    "colab_type": "code",
    "id": "lAbjCA7PJkti",
    "outputId": "2641ac32-a800-4cf7-8ee5-1a937f913a98"
   },
   "outputs": [
    {
     "name": "stdout",
     "output_type": "stream",
     "text": [
      "10\n",
      "(2, 6)\n"
     ]
    }
   ],
   "source": [
    "abs_number = abs(-10)\n",
    "print(abs_number)\n",
    "\n",
    "divmod_number = divmod(20, 7)\n",
    "print(divmod_number)\n",
    "# 20 // 7, 20 % 7"
   ]
  },
  {
   "cell_type": "code",
   "execution_count": 0,
   "metadata": {
    "colab": {},
    "colab_type": "code",
    "id": "kFV9DgO5Jktk",
    "outputId": "877d999d-d183-40cf-95c9-acaf52d7c802"
   },
   "outputs": [
    {
     "name": "stdout",
     "output_type": "stream",
     "text": [
      "[5, 0, -6, -7, 0, -7, -1, 1, 0, 2, -6, 6, 5, 6, -10]\n"
     ]
    }
   ],
   "source": [
    "from random import randint\n",
    "\n",
    "sayı_listesi = []\n",
    "for i in range(15):\n",
    "    sayı_listesi.append(randint(-10, 10))\n",
    "\n",
    "print(sayı_listesi)"
   ]
  },
  {
   "cell_type": "code",
   "execution_count": 0,
   "metadata": {
    "colab": {},
    "colab_type": "code",
    "id": "-GV1Uph2Jktl",
    "outputId": "6a2f7cb4-231e-4b49-a00a-a80eb9388a2e"
   },
   "outputs": [
    {
     "name": "stdout",
     "output_type": "stream",
     "text": [
      "Liste: [-10, -1, 2, 2, 8, 5, 1, 0, 7, 5, -10, 1, 1, 3, -10]\n",
      "max() fonksiyonunun çıktısı => 8\n",
      "min() fonksiyonunun çıktısı => -10\n",
      "sum() fonksiyonunun çıktısı => 4\n"
     ]
    }
   ],
   "source": [
    "string = \"{} fonksiyonunun çıktısı => {}\"\n",
    "\n",
    "print(\"Liste: {}\".format(sayı_listesi))\n",
    "print(string.format(\"max()\", max(sayı_listesi)))\n",
    "print(string.format(\"min()\", min(sayı_listesi)))\n",
    "print(string.format(\"sum()\", sum(sayı_listesi)))"
   ]
  },
  {
   "cell_type": "markdown",
   "metadata": {
    "colab_type": "text",
    "id": "9whjWWUdJktn"
   },
   "source": [
    "## Sözlükler ( Dictionaries )"
   ]
  },
  {
   "cell_type": "code",
   "execution_count": 0,
   "metadata": {
    "colab": {},
    "colab_type": "code",
    "id": "X6fvhH0_Jktn",
    "outputId": "2d20e3e2-dc12-4d04-9420-51b9539f3d11"
   },
   "outputs": [
    {
     "name": "stdout",
     "output_type": "stream",
     "text": [
      "{'Elma': 'Apple', 'Armut': 'Pear', 'Tilki': 'Fox'}\n"
     ]
    }
   ],
   "source": [
    "sozluk = {}\n",
    "sozluk = dict()\n",
    "\n",
    "sozluk['Elma'] = 'Apple'\n",
    "sozluk['Armut'] = 'Pear'\n",
    "sozluk['Tilki'] = 'Fox'\n",
    "\n",
    "print(sozluk)"
   ]
  },
  {
   "cell_type": "code",
   "execution_count": 0,
   "metadata": {
    "colab": {},
    "colab_type": "code",
    "id": "YxJd-yx4Jktp",
    "outputId": "dfe7a002-4424-4ce2-f1b9-c5b7cfda0d07"
   },
   "outputs": [
    {
     "name": "stdout",
     "output_type": "stream",
     "text": [
      "dict_keys(['Elma', 'Armut', 'Tilki'])\n",
      "dict_values(['Apple', 'Pear', 'Fox'])\n"
     ]
    }
   ],
   "source": [
    "sozluk_keys = sozluk.keys()\n",
    "print(sozluk_keys)\n",
    "\n",
    "sozluk_values = sozluk.values()\n",
    "print(sozluk_values)"
   ]
  },
  {
   "cell_type": "code",
   "execution_count": 0,
   "metadata": {
    "colab": {},
    "colab_type": "code",
    "id": "eLn08kZQJktq",
    "outputId": "d23f9d1f-d9f2-4f7d-bf85-bc3dfd772ee4"
   },
   "outputs": [
    {
     "name": "stdout",
     "output_type": "stream",
     "text": [
      "dict_items([('Elma', 'Apple'), ('Armut', 'Pear'), ('Tilki', 'Fox')])\n",
      "Elma Apple\n",
      "Armut Pear\n",
      "Tilki Fox\n"
     ]
    }
   ],
   "source": [
    "\"\"\"\n",
    "for key in sozluk.keys():\n",
    "    pass\n",
    "    \n",
    "for value in sozluk.values():\n",
    "    pass\n",
    "\"\"\"\n",
    "print(sozluk.items())\n",
    "for key, value in sozluk.items():\n",
    "    print(key, value)"
   ]
  },
  {
   "cell_type": "code",
   "execution_count": 0,
   "metadata": {
    "colab": {},
    "colab_type": "code",
    "id": "lXG5JnSTJktr",
    "outputId": "876039e7-6c94-4059-fb30-7c0fab8dd2c8"
   },
   "outputs": [
    {
     "name": "stdout",
     "output_type": "stream",
     "text": [
      "Pear\n"
     ]
    },
    {
     "ename": "KeyError",
     "evalue": "'Üzüm'",
     "output_type": "error",
     "traceback": [
      "\u001b[0;31m---------------------------------------------------------------------------\u001b[0m",
      "\u001b[0;31mKeyError\u001b[0m                                  Traceback (most recent call last)",
      "\u001b[0;32m<ipython-input-129-7a29f718c7cd>\u001b[0m in \u001b[0;36m<module>\u001b[0;34m\u001b[0m\n\u001b[1;32m      1\u001b[0m \u001b[0mprint\u001b[0m\u001b[0;34m(\u001b[0m\u001b[0msozluk\u001b[0m\u001b[0;34m[\u001b[0m\u001b[0;34m'Armut'\u001b[0m\u001b[0;34m]\u001b[0m\u001b[0;34m)\u001b[0m\u001b[0;34m\u001b[0m\u001b[0;34m\u001b[0m\u001b[0m\n\u001b[0;32m----> 2\u001b[0;31m \u001b[0mprint\u001b[0m\u001b[0;34m(\u001b[0m\u001b[0msozluk\u001b[0m\u001b[0;34m[\u001b[0m\u001b[0;34m'Üzüm'\u001b[0m\u001b[0;34m]\u001b[0m\u001b[0;34m)\u001b[0m\u001b[0;34m\u001b[0m\u001b[0;34m\u001b[0m\u001b[0m\n\u001b[0m",
      "\u001b[0;31mKeyError\u001b[0m: 'Üzüm'"
     ]
    }
   ],
   "source": [
    "print(sozluk['Armut'])\n",
    "print(sozluk['Üzüm'])"
   ]
  },
  {
   "cell_type": "code",
   "execution_count": 0,
   "metadata": {
    "colab": {},
    "colab_type": "code",
    "id": "zuETRKKKJktr",
    "outputId": "df828355-4d97-427c-eefa-71306eec11df"
   },
   "outputs": [
    {
     "data": {
      "text/plain": [
       "False"
      ]
     },
     "execution_count": 131,
     "metadata": {
      "tags": []
     },
     "output_type": "execute_result"
    }
   ],
   "source": [
    "print(sozluk.get('Üzüm'))"
   ]
  },
  {
   "cell_type": "code",
   "execution_count": 0,
   "metadata": {
    "colab": {},
    "colab_type": "code",
    "id": "vq5Nm1vMJktt",
    "outputId": "a8b38a65-1576-4342-b65c-31321cd0be83"
   },
   "outputs": [
    {
     "data": {
      "text/plain": [
       "'Apple'"
      ]
     },
     "execution_count": 9,
     "metadata": {
      "tags": []
     },
     "output_type": "execute_result"
    }
   ],
   "source": [
    "sozluk.setdefault('Elma', 'Malus')"
   ]
  },
  {
   "cell_type": "code",
   "execution_count": 0,
   "metadata": {
    "colab": {},
    "colab_type": "code",
    "id": "pRETlCp_Jktt",
    "outputId": "7160cc06-7d67-4a31-9fe0-b92b5a4b8e2e"
   },
   "outputs": [
    {
     "data": {
      "text/plain": [
       "'Grape'"
      ]
     },
     "execution_count": 10,
     "metadata": {
      "tags": []
     },
     "output_type": "execute_result"
    }
   ],
   "source": [
    "sozluk.setdefault('Üzüm', 'Grape')"
   ]
  },
  {
   "cell_type": "markdown",
   "metadata": {
    "colab_type": "text",
    "id": "vcwht9vhJktw"
   },
   "source": [
    "## Kümeler ve Dondurulmuş Kümeler ( Sets and Frozensets )"
   ]
  },
  {
   "cell_type": "code",
   "execution_count": 0,
   "metadata": {
    "colab": {},
    "colab_type": "code",
    "id": "ADdrGsvcJktw",
    "outputId": "f9895c6f-fe1c-4775-dd55-85c28de32c37"
   },
   "outputs": [
    {
     "name": "stdout",
     "output_type": "stream",
     "text": [
      "{1, 2, 3}\n"
     ]
    }
   ],
   "source": [
    "küme = set()\n",
    "\n",
    "küme.add(1)\n",
    "küme.add(2)\n",
    "küme.add(3)\n",
    "küme.add(3)\n",
    "küme.add(3)\n",
    "küme.add(2)\n",
    "\n",
    "print(küme)"
   ]
  },
  {
   "cell_type": "code",
   "execution_count": 0,
   "metadata": {
    "colab": {},
    "colab_type": "code",
    "id": "g0IqVQc0Jktx",
    "outputId": "6e4f7678-0d08-422a-e683-c75834d65c52"
   },
   "outputs": [
    {
     "name": "stdout",
     "output_type": "stream",
     "text": [
      "{0, 1, 2, 3, 4, 5, 10, 12}\n"
     ]
    }
   ],
   "source": [
    "liste = [10, 12, 1, 0, 2, 3, 4, 4, 2, 3, 0, 2, 1, 5]\n",
    "küme = set(liste)\n",
    "\n",
    "print(küme)"
   ]
  },
  {
   "cell_type": "code",
   "execution_count": 0,
   "metadata": {
    "colab": {},
    "colab_type": "code",
    "id": "BG4yCaSjJkty",
    "outputId": "095478dc-f19b-496d-d0a0-b1586bce00ca"
   },
   "outputs": [
    {
     "name": "stdout",
     "output_type": "stream",
     "text": [
      "{0, 1, 2, 3, 4, 5, 12}\n"
     ]
    }
   ],
   "source": [
    "küme.remove(10)\n",
    "print(küme)"
   ]
  },
  {
   "cell_type": "code",
   "execution_count": 0,
   "metadata": {
    "colab": {},
    "colab_type": "code",
    "id": "mEKKQxVdJktz",
    "outputId": "54935761-17a5-4a19-ed61-9bd95748530f"
   },
   "outputs": [
    {
     "name": "stdout",
     "output_type": "stream",
     "text": [
      "Kesişim kümesi:  {50, 30}\n",
      "Birleşim kümesi:  {100, 10, 50, 20, 90, 30}\n",
      "Küme1:  {10, 100, 50, 30}\n"
     ]
    }
   ],
   "source": [
    "liste1 = [10, 100, 50, 30]\n",
    "liste2 = [20, 50, 90, 30]\n",
    "\n",
    "küme1 = set(liste1)\n",
    "küme2 = set(liste2)\n",
    "\n",
    "print(\"Kesişim kümesi: \", küme1.intersection(küme2))\n",
    "print(\"Birleşim kümesi: \", küme1.union(küme2))\n",
    "print(\"Küme1: \", küme1)"
   ]
  },
  {
   "cell_type": "markdown",
   "metadata": {
    "colab_type": "text",
    "id": "K8mNVP1ZJkt0"
   },
   "source": [
    "## Üç büyükler"
   ]
  },
  {
   "cell_type": "code",
   "execution_count": 0,
   "metadata": {
    "colab": {},
    "colab_type": "code",
    "id": "gl-dAUtPJkt0",
    "outputId": "1d206801-612b-4134-85ec-7e52a203b03c"
   },
   "outputs": [
    {
     "name": "stdout",
     "output_type": "stream",
     "text": [
      "Help on class list in module builtins:\n",
      "\n",
      "class list(object)\n",
      " |  list(iterable=(), /)\n",
      " |  \n",
      " |  Built-in mutable sequence.\n",
      " |  \n",
      " |  If no argument is given, the constructor creates a new empty list.\n",
      " |  The argument must be an iterable if specified.\n",
      " |  \n",
      " |  Methods defined here:\n",
      " |  \n",
      " |  __add__(self, value, /)\n",
      " |      Return self+value.\n",
      " |  \n",
      " |  __contains__(self, key, /)\n",
      " |      Return key in self.\n",
      " |  \n",
      " |  __delitem__(self, key, /)\n",
      " |      Delete self[key].\n",
      " |  \n",
      " |  __eq__(self, value, /)\n",
      " |      Return self==value.\n",
      " |  \n",
      " |  __ge__(self, value, /)\n",
      " |      Return self>=value.\n",
      " |  \n",
      " |  __getattribute__(self, name, /)\n",
      " |      Return getattr(self, name).\n",
      " |  \n",
      " |  __getitem__(...)\n",
      " |      x.__getitem__(y) <==> x[y]\n",
      " |  \n",
      " |  __gt__(self, value, /)\n",
      " |      Return self>value.\n",
      " |  \n",
      " |  __iadd__(self, value, /)\n",
      " |      Implement self+=value.\n",
      " |  \n",
      " |  __imul__(self, value, /)\n",
      " |      Implement self*=value.\n",
      " |  \n",
      " |  __init__(self, /, *args, **kwargs)\n",
      " |      Initialize self.  See help(type(self)) for accurate signature.\n",
      " |  \n",
      " |  __iter__(self, /)\n",
      " |      Implement iter(self).\n",
      " |  \n",
      " |  __le__(self, value, /)\n",
      " |      Return self<=value.\n",
      " |  \n",
      " |  __len__(self, /)\n",
      " |      Return len(self).\n",
      " |  \n",
      " |  __lt__(self, value, /)\n",
      " |      Return self<value.\n",
      " |  \n",
      " |  __mul__(self, value, /)\n",
      " |      Return self*value.\n",
      " |  \n",
      " |  __ne__(self, value, /)\n",
      " |      Return self!=value.\n",
      " |  \n",
      " |  __repr__(self, /)\n",
      " |      Return repr(self).\n",
      " |  \n",
      " |  __reversed__(self, /)\n",
      " |      Return a reverse iterator over the list.\n",
      " |  \n",
      " |  __rmul__(self, value, /)\n",
      " |      Return value*self.\n",
      " |  \n",
      " |  __setitem__(self, key, value, /)\n",
      " |      Set self[key] to value.\n",
      " |  \n",
      " |  __sizeof__(self, /)\n",
      " |      Return the size of the list in memory, in bytes.\n",
      " |  \n",
      " |  append(self, object, /)\n",
      " |      Append object to the end of the list.\n",
      " |  \n",
      " |  clear(self, /)\n",
      " |      Remove all items from list.\n",
      " |  \n",
      " |  copy(self, /)\n",
      " |      Return a shallow copy of the list.\n",
      " |  \n",
      " |  count(self, value, /)\n",
      " |      Return number of occurrences of value.\n",
      " |  \n",
      " |  extend(self, iterable, /)\n",
      " |      Extend list by appending elements from the iterable.\n",
      " |  \n",
      " |  index(self, value, start=0, stop=9223372036854775807, /)\n",
      " |      Return first index of value.\n",
      " |      \n",
      " |      Raises ValueError if the value is not present.\n",
      " |  \n",
      " |  insert(self, index, object, /)\n",
      " |      Insert object before index.\n",
      " |  \n",
      " |  pop(self, index=-1, /)\n",
      " |      Remove and return item at index (default last).\n",
      " |      \n",
      " |      Raises IndexError if list is empty or index is out of range.\n",
      " |  \n",
      " |  remove(self, value, /)\n",
      " |      Remove first occurrence of value.\n",
      " |      \n",
      " |      Raises ValueError if the value is not present.\n",
      " |  \n",
      " |  reverse(self, /)\n",
      " |      Reverse *IN PLACE*.\n",
      " |  \n",
      " |  sort(self, /, *, key=None, reverse=False)\n",
      " |      Sort the list in ascending order and return None.\n",
      " |      \n",
      " |      The sort is in-place (i.e. the list itself is modified) and stable (i.e. the\n",
      " |      order of two equal elements is maintained).\n",
      " |      \n",
      " |      If a key function is given, apply it once to each list item and sort them,\n",
      " |      ascending or descending, according to their function values.\n",
      " |      \n",
      " |      The reverse flag can be set to sort in descending order.\n",
      " |  \n",
      " |  ----------------------------------------------------------------------\n",
      " |  Static methods defined here:\n",
      " |  \n",
      " |  __new__(*args, **kwargs) from builtins.type\n",
      " |      Create and return a new object.  See help(type) for accurate signature.\n",
      " |  \n",
      " |  ----------------------------------------------------------------------\n",
      " |  Data and other attributes defined here:\n",
      " |  \n",
      " |  __hash__ = None\n",
      "\n"
     ]
    }
   ],
   "source": [
    "help(list)"
   ]
  },
  {
   "cell_type": "code",
   "execution_count": 0,
   "metadata": {
    "colab": {},
    "colab_type": "code",
    "id": "jD6ExYi1Jkt1",
    "outputId": "261e9977-f9f4-40d5-e7f2-b34121789adc"
   },
   "outputs": [
    {
     "name": "stdout",
     "output_type": "stream",
     "text": [
      "(0, 'Ahmet') (1, 'Ayşe') (2, 'Binnur') (3, 'Fatma') (4, 'Mehmet') (5, 'Nuri')\n"
     ]
    }
   ],
   "source": [
    "liste = sorted([\"Ayşe\", \"Ahmet\",\"Mehmet\", \"Nuri\", \"Fatma\", \"Binnur\"])\n",
    "print(*enumerate(liste))"
   ]
  },
  {
   "cell_type": "code",
   "execution_count": 0,
   "metadata": {
    "colab": {},
    "colab_type": "code",
    "id": "gAvms22GJkt3",
    "outputId": "904b7aa8-6175-4bce-8793-fc2b904880ca"
   },
   "outputs": [
    {
     "name": "stdout",
     "output_type": "stream",
     "text": [
      "0 Ahmet\n",
      "1 Ayşe\n",
      "2 Binnur\n",
      "3 Fatma\n",
      "4 Mehmet\n",
      "5 Nuri\n"
     ]
    }
   ],
   "source": [
    "for no, isim in enumerate(liste, 0):\n",
    "    print(no, isim)"
   ]
  },
  {
   "cell_type": "code",
   "execution_count": 0,
   "metadata": {
    "colab": {},
    "colab_type": "code",
    "id": "PUxB59PtJkt4",
    "outputId": "fdedc832-8d25-49d7-f7ac-f81ebf7e55be"
   },
   "outputs": [
    {
     "data": {
      "text/plain": [
       "['__add__',\n",
       " '__class__',\n",
       " '__contains__',\n",
       " '__delattr__',\n",
       " '__delitem__',\n",
       " '__dir__',\n",
       " '__doc__',\n",
       " '__eq__',\n",
       " '__format__',\n",
       " '__ge__',\n",
       " '__getattribute__',\n",
       " '__getitem__',\n",
       " '__gt__',\n",
       " '__hash__',\n",
       " '__iadd__',\n",
       " '__imul__',\n",
       " '__init__',\n",
       " '__init_subclass__',\n",
       " '__iter__',\n",
       " '__le__',\n",
       " '__len__',\n",
       " '__lt__',\n",
       " '__mul__',\n",
       " '__ne__',\n",
       " '__new__',\n",
       " '__reduce__',\n",
       " '__reduce_ex__',\n",
       " '__repr__',\n",
       " '__reversed__',\n",
       " '__rmul__',\n",
       " '__setattr__',\n",
       " '__setitem__',\n",
       " '__sizeof__',\n",
       " '__str__',\n",
       " '__subclasshook__',\n",
       " 'append',\n",
       " 'clear',\n",
       " 'copy',\n",
       " 'count',\n",
       " 'extend',\n",
       " 'index',\n",
       " 'insert',\n",
       " 'pop',\n",
       " 'remove',\n",
       " 'reverse',\n",
       " 'sort']"
      ]
     },
     "execution_count": 147,
     "metadata": {
      "tags": []
     },
     "output_type": "execute_result"
    }
   ],
   "source": [
    "dir(list)"
   ]
  },
  {
   "cell_type": "markdown",
   "metadata": {
    "colab_type": "text",
    "id": "9xfzMHebJkt4"
   },
   "source": [
    "## Karakter Dizilerinin Methotları ( String Methods )"
   ]
  },
  {
   "cell_type": "code",
   "execution_count": 0,
   "metadata": {
    "colab": {},
    "colab_type": "code",
    "id": "RbUcubFiJkt5"
   },
   "outputs": [],
   "source": [
    "string = 'Hikmet ÖZBEN'"
   ]
  },
  {
   "cell_type": "code",
   "execution_count": 0,
   "metadata": {
    "colab": {},
    "colab_type": "code",
    "id": "11EJ2W5xJkt6",
    "outputId": "d89a21ec-d349-4a2e-be5f-5d7b71dff73f"
   },
   "outputs": [
    {
     "name": "stdout",
     "output_type": "stream",
     "text": [
      "H\n"
     ]
    }
   ],
   "source": [
    "print(string[0])"
   ]
  },
  {
   "cell_type": "code",
   "execution_count": 0,
   "metadata": {
    "colab": {},
    "colab_type": "code",
    "id": "QHzrJbz-Jkt7",
    "outputId": "238f3e09-dfe2-481d-baac-aff69656ab1a"
   },
   "outputs": [
    {
     "name": "stdout",
     "output_type": "stream",
     "text": [
      "Hikm\n",
      "Hikmet ÖZBEN\n",
      "Hke ZE\n"
     ]
    }
   ],
   "source": [
    "print(string[0:4])\n",
    "print(string[0:len(string)])\n",
    "print(string[0:len(string):2])"
   ]
  },
  {
   "cell_type": "code",
   "execution_count": 0,
   "metadata": {
    "colab": {},
    "colab_type": "code",
    "id": "blONGE1PJkt_",
    "outputId": "59cce31e-2dcf-495d-b5f2-879df385dfd7"
   },
   "outputs": [
    {
     "name": "stdout",
     "output_type": "stream",
     "text": [
      "hikmet özben\n",
      "HIKMET ÖZBEN\n"
     ]
    }
   ],
   "source": [
    "print(string.lower())\n",
    "print(string.upper())"
   ]
  },
  {
   "cell_type": "code",
   "execution_count": 0,
   "metadata": {
    "colab": {},
    "colab_type": "code",
    "id": "5W0OEZHhJkuA",
    "outputId": "499112d6-2ac7-43bf-8161-bea775146c90"
   },
   "outputs": [
    {
     "name": "stdout",
     "output_type": "stream",
     "text": [
      "Hikmet ÖZBEN\n",
      "Hikmet BENOL\n",
      "Turgut BENOL\n"
     ]
    }
   ],
   "source": [
    "print(string)\n",
    "\n",
    "string = string.replace('ÖZBEN', 'BENOL')\n",
    "print(string)\n",
    "\n",
    "string = string.replace('Hikmet', 'Turgut')\n",
    "print(string)"
   ]
  },
  {
   "cell_type": "code",
   "execution_count": 0,
   "metadata": {
    "colab": {},
    "colab_type": "code",
    "id": "7e5Q7Q-pJkuB",
    "outputId": "56deeba8-8393-472b-d17e-6d63d4639f4b"
   },
   "outputs": [
    {
     "name": "stdout",
     "output_type": "stream",
     "text": [
      "False\n",
      "True\n"
     ]
    }
   ],
   "source": [
    "print(\"A\".islower())\n",
    "print(\"A\".isupper())"
   ]
  },
  {
   "cell_type": "code",
   "execution_count": 0,
   "metadata": {
    "colab": {},
    "colab_type": "code",
    "id": "R5eCZqgcJkuD",
    "outputId": "c39b97d5-41d6-40e3-a51c-660e838dc285"
   },
   "outputs": [
    {
     "name": "stdout",
     "output_type": "stream",
     "text": [
      "False\n",
      "True\n"
     ]
    }
   ],
   "source": [
    "print(string.startswith('Hikmet'))\n",
    "print(string.endswith('OL'))"
   ]
  },
  {
   "cell_type": "code",
   "execution_count": 0,
   "metadata": {
    "colab": {},
    "colab_type": "code",
    "id": "xgXTiG3nJkuE",
    "outputId": "5e71ccfa-3f43-48fd-e558-4a3836ea2dfa"
   },
   "outputs": [
    {
     "data": {
      "text/plain": [
       "['Turgut', 'BENOL']"
      ]
     },
     "execution_count": 164,
     "metadata": {
      "tags": []
     },
     "output_type": "execute_result"
    }
   ],
   "source": [
    "string.split()"
   ]
  },
  {
   "cell_type": "code",
   "execution_count": 0,
   "metadata": {
    "colab": {},
    "colab_type": "code",
    "id": "vkHYejIQJkuG",
    "outputId": "02e609b6-0555-4c7a-e863-c71a7dce5105"
   },
   "outputs": [
    {
     "name": "stdout",
     "output_type": "stream",
     "text": [
      "Turgutcum BENOL\n"
     ]
    }
   ],
   "source": [
    "string = string.split()\n",
    "string = \"cum \".join(string)\n",
    "print(string)"
   ]
  },
  {
   "cell_type": "code",
   "execution_count": 0,
   "metadata": {
    "colab": {},
    "colab_type": "code",
    "id": "uKzCcZ03JkuH",
    "outputId": "77f4b64c-0870-4daa-b807-4de49a92e7ca"
   },
   "outputs": [
    {
     "name": "stdout",
     "output_type": "stream",
     "text": [
      "['Merkür', 'Venüs', 'Dünya', 'Mars', 'Jüpiter', 'Satürn', 'Uranüs', 'Neptün']\n",
      "Venüs - Uranüs - Satürn - Neptün - Merkür - Mars - Jüpiter - Dünya\n"
     ]
    }
   ],
   "source": [
    "gezegenler = \"Merkür,Venüs,Dünya,Mars,Jüpiter,Satürn,Uranüs,Neptün\"\n",
    "gezegenler = gezegenler.split(\",\")\n",
    "print(gezegenler)\n",
    "\n",
    "sıralanmış_gezegenler = \" - \".join(sorted(gezegenler, reverse=True))\n",
    "\"\"\"\n",
    "sıralanmış_gezegenler = sorted(gezegenler)\n",
    "sıralanmış_gezegenler = sıralanmış_gezegenler[::-1]\n",
    "sıralanmış_gezgenler = \" - \".join(sıralanmış_gezegenler)\n",
    "print(sıralanmış_gezegenler)\n",
    "\"\"\"\n",
    "print(sıralanmış_gezegenler)\n"
   ]
  },
  {
   "cell_type": "code",
   "execution_count": 0,
   "metadata": {
    "colab": {},
    "colab_type": "code",
    "id": "LTBL28HTJkuI",
    "outputId": "acf5d64e-0e2c-4697-c896-175bd758f746"
   },
   "outputs": [
    {
     "data": {
      "text/plain": [
       "'Merkür Venüs Dünya Mars Jüpiter Satürn Uranüs Neptün'"
      ]
     },
     "execution_count": 172,
     "metadata": {
      "tags": []
     },
     "output_type": "execute_result"
    }
   ],
   "source": [
    "gezegenler = \"     Merkür Venüs Dünya Mars Jüpiter Satürn Uranüs Neptün       \"\n",
    "gezegenler.strip()"
   ]
  },
  {
   "cell_type": "code",
   "execution_count": 0,
   "metadata": {
    "colab": {},
    "colab_type": "code",
    "id": "PJqqFF7OJkuJ",
    "outputId": "17b2acc3-d154-47b3-cdce-5b5e77c7aefe"
   },
   "outputs": [
    {
     "data": {
      "text/plain": [
       "'     Merkür Venüs Dünya Mars Jüpiter Satürn Uranüs Neptün'"
      ]
     },
     "execution_count": 174,
     "metadata": {
      "tags": []
     },
     "output_type": "execute_result"
    }
   ],
   "source": [
    "gezegenler = \"     Merkür Venüs Dünya Mars Jüpiter Satürn Uranüs Neptün       \"\n",
    "gezegenler.lstrip()"
   ]
  },
  {
   "cell_type": "markdown",
   "metadata": {
    "colab_type": "text",
    "id": "V0B2QkdWJkuK"
   },
   "source": [
    "## Fonksiyonlar ( Functions )"
   ]
  },
  {
   "cell_type": "code",
   "execution_count": 0,
   "metadata": {
    "colab": {},
    "colab_type": "code",
    "id": "msp6-4AjJkuK",
    "outputId": "5451fb84-0556-47b2-9f39-12c675739dd0"
   },
   "outputs": [
    {
     "name": "stdout",
     "output_type": "stream",
     "text": [
      "\n",
      "İsim: Ahmet DENİZ\n",
      "Ortalama: 78.33\n",
      "Harf notu: C\n",
      "--------------------\n",
      "İsim: Aylin TÜRK\n",
      "Ortalama: 45.00\n",
      "Harf notu: F\n",
      "--------------------\n",
      "İsim: Murat YILMAZ\n",
      "Ortalama: 95.00\n",
      "Harf notu: A\n",
      "--------------------"
     ]
    }
   ],
   "source": [
    "def not_hesaplama(ad, puanlar):\n",
    "    ortalama = 0\n",
    "    for puan in puanlar:\n",
    "        ortalama += puan\n",
    "    ortalama /= len(puanlar)\n",
    "    #ortalama = sum(puanlar) / len(puanlar)\n",
    "    \n",
    "    if ortalama > 90:\n",
    "        harf = 'A'\n",
    "    elif ortalama > 80:\n",
    "        harf = 'B'\n",
    "    elif ortalama > 60:\n",
    "        harf = 'C'\n",
    "    elif ortalama > 50:\n",
    "        harf = 'D'\n",
    "    else:\n",
    "        harf = 'F'\n",
    "    \n",
    "    print(f'\\nİsim: {ad}\\nOrtalama: {ortalama:.2f}\\nHarf notu: {harf}\\n', end=\"-\"*20)\n",
    "\n",
    "not_hesaplama('Ahmet DENİZ', (60, 100, 75))\n",
    "not_hesaplama('Aylin TÜRK', (20, 50, 65))\n",
    "not_hesaplama('Murat YILMAZ', (100, 100, 85))"
   ]
  },
  {
   "cell_type": "code",
   "execution_count": 0,
   "metadata": {
    "colab": {},
    "colab_type": "code",
    "id": "0S3WZf4kJkuL",
    "outputId": "711df842-1299-402e-a9c1-eae43274e126"
   },
   "outputs": [
    {
     "name": "stdout",
     "output_type": "stream",
     "text": [
      "100\n",
      "20\n",
      "64\n"
     ]
    }
   ],
   "source": [
    "def carp(a=10, b=10):\n",
    "    sonuc = a * b\n",
    "    return sonuc\n",
    "\n",
    "sonuc = carp()\n",
    "print(sonuc)\n",
    "\n",
    "print(carp(5, 4))\n",
    "print(carp(b=32, a=2))"
   ]
  },
  {
   "cell_type": "code",
   "execution_count": 0,
   "metadata": {
    "colab": {},
    "colab_type": "code",
    "id": "Il7Fjz8jJkuQ",
    "outputId": "85e92fa4-c7f0-4233-d34d-93d7a9a7bf38"
   },
   "outputs": [
    {
     "name": "stdout",
     "output_type": "stream",
     "text": [
      "10\n",
      "5\n"
     ]
    }
   ],
   "source": [
    "a = 5\n",
    "def a_degistirme():\n",
    "    a = 10\n",
    "    print(a)\n",
    "a_degistirme()\n",
    "print(a)"
   ]
  },
  {
   "cell_type": "code",
   "execution_count": 0,
   "metadata": {
    "colab": {},
    "colab_type": "code",
    "id": "Ea_sU_BGJkuR",
    "outputId": "c83848ef-76c1-4673-b28b-35d74afdfebd"
   },
   "outputs": [
    {
     "name": "stdout",
     "output_type": "stream",
     "text": [
      "10\n",
      "10\n"
     ]
    }
   ],
   "source": [
    "a = 5\n",
    "def a_degistirme():\n",
    "    global a\n",
    "    a = 10\n",
    "    print(a)\n",
    "a_degistirme()\n",
    "print(a)"
   ]
  },
  {
   "cell_type": "markdown",
   "metadata": {
    "colab_type": "text",
    "id": "rGfUR7zJJkuS"
   },
   "source": [
    "## Nesne Yönelimli Programlama GİRİŞ ( Beginning OOP )"
   ]
  },
  {
   "cell_type": "code",
   "execution_count": 0,
   "metadata": {
    "colab": {},
    "colab_type": "code",
    "id": "dx6d34ekJkuS"
   },
   "outputs": [],
   "source": [
    "class Araba:\n",
    "    def sür(self):\n",
    "        print('Araba gidiyor..')\n",
    "    \n",
    "    def dur(self):\n",
    "        print('Araba duruyor..')\n",
    "        \n",
    "\n",
    "araba = Araba()\n",
    "araba.sür()\n",
    "araba.dur()\n",
    "araba.sür()"
   ]
  },
  {
   "cell_type": "code",
   "execution_count": 0,
   "metadata": {
    "colab": {},
    "colab_type": "code",
    "id": "oo_b3X7UJkuT"
   },
   "outputs": [],
   "source": [
    "class Araba:\n",
    "    \"\"\"\n",
    "    Python dersi için tanımladığımız araba sınıfımız.\n",
    "    -------------------------------------------------\n",
    "    Sınıf içerisinde arabanın yapmasını istediğimiz \n",
    "    ve yapabileceği fonksiyonları barındırıyor.\n",
    "    \"\"\"\n",
    "    def __init__(self, marka, model, yıl, renk):\n",
    "        \"\"\"\n",
    "        Bir nesne oluştururken aşağıdaki parametreleri\n",
    "        vermeyi unutmayın!\n",
    "        => Marka, Model, Yıl ve Renk\n",
    "        \"\"\"\n",
    "        self.marka = marka\n",
    "        self.model = model\n",
    "        self.yıl = yıl\n",
    "        self.renk = renk\n",
    "        self.durum = 0\n",
    "        \"\"\"\n",
    "        0: Kapalı\n",
    "        1: Çalışır halde duruyor\n",
    "        2: Gidiyor\n",
    "        \"\"\"\n",
    "        \n",
    "    def çalıştır(self):\n",
    "        self.durum = 1 if not self.durum else 1\n",
    "    \n",
    "    def durdur(self):\n",
    "        self.durum = 0 if self.durum else 1\n",
    "        \n",
    "    def sür(self):\n",
    "        if self.durum:\n",
    "            print('{} gidiyor'.format(self.model))\n",
    "            self.durum = 2\n",
    "        else:\n",
    "            print('Önce arabayı çalıştır')\n",
    "    \n",
    "    def dur(self):\n",
    "        if self.durum:\n",
    "            print('{} duruyor'.format(self.model))\n",
    "            self.durum = 1\n",
    "        else:\n",
    "            print('Önce arabayı çalıştır')\n",
    "            \n",
    "    def özellikleri_yazdır(self):\n",
    "        print(f\"Marka: {self.marka:<10}\\\n",
    "        Model: {self.model:<10}\\\n",
    "        Yıl: {self.yıl:<10}\\\n",
    "        Renk: {self.renk:<10}\")"
   ]
  },
  {
   "cell_type": "code",
   "execution_count": 0,
   "metadata": {
    "colab": {},
    "colab_type": "code",
    "id": "fNQfyFq2JkuU",
    "outputId": "9f1ff1b3-3f23-434e-f1a8-33c68f4db431"
   },
   "outputs": [
    {
     "ename": "NameError",
     "evalue": "name 'Araba' is not defined",
     "output_type": "error",
     "traceback": [
      "\u001b[0;31m---------------------------------------------------------------------------\u001b[0m",
      "\u001b[0;31mNameError\u001b[0m                                 Traceback (most recent call last)",
      "\u001b[0;32m<ipython-input-188-ee52b4af2c06>\u001b[0m in \u001b[0;36m<module>\u001b[0;34m\u001b[0m\n\u001b[0;32m----> 1\u001b[0;31m \u001b[0mhelp\u001b[0m\u001b[0;34m(\u001b[0m\u001b[0mAraba\u001b[0m\u001b[0;34m)\u001b[0m\u001b[0;34m\u001b[0m\u001b[0;34m\u001b[0m\u001b[0m\n\u001b[0m\u001b[1;32m      2\u001b[0m \u001b[0;34m\u001b[0m\u001b[0m\n\u001b[1;32m      3\u001b[0m \u001b[0maraba1\u001b[0m \u001b[0;34m=\u001b[0m \u001b[0mAraba\u001b[0m\u001b[0;34m(\u001b[0m\u001b[0;34m'Dodge'\u001b[0m\u001b[0;34m,\u001b[0m \u001b[0;34m'Challenger'\u001b[0m\u001b[0;34m,\u001b[0m \u001b[0;34m'2016'\u001b[0m\u001b[0;34m,\u001b[0m \u001b[0;34m'Siyah'\u001b[0m\u001b[0;34m)\u001b[0m\u001b[0;34m\u001b[0m\u001b[0;34m\u001b[0m\u001b[0m\n\u001b[1;32m      4\u001b[0m \u001b[0maraba1\u001b[0m\u001b[0;34m.\u001b[0m\u001b[0msür\u001b[0m\u001b[0;34m(\u001b[0m\u001b[0;34m)\u001b[0m\u001b[0;34m\u001b[0m\u001b[0;34m\u001b[0m\u001b[0m\n\u001b[1;32m      5\u001b[0m \u001b[0maraba1\u001b[0m\u001b[0;34m.\u001b[0m\u001b[0mçalıştır\u001b[0m\u001b[0;34m(\u001b[0m\u001b[0;34m)\u001b[0m\u001b[0;34m\u001b[0m\u001b[0;34m\u001b[0m\u001b[0m\n",
      "\u001b[0;31mNameError\u001b[0m: name 'Araba' is not defined"
     ]
    }
   ],
   "source": [
    "help(Araba)\n",
    "\n",
    "araba1 = Araba('Dodge', 'Challenger', '2016', 'Siyah')\n",
    "araba1.sür()\n",
    "araba1.çalıştır()\n",
    "araba1.sür()\n",
    "araba1.özellikleri_yazdır()\n",
    "araba1.dur()"
   ]
  },
  {
   "cell_type": "code",
   "execution_count": 0,
   "metadata": {
    "colab": {},
    "colab_type": "code",
    "id": "iXoLgEdTJkuV"
   },
   "outputs": [],
   "source": [
    "araba2 = Araba('Ford', 'Mustang', '1971', 'Sarı-Siyah')\n",
    "araba2.sür()\n",
    "araba2.çalıştır()\n",
    "araba2.sür()\n",
    "araba2.özellikleri_yazdır()\n",
    "araba2.dur()"
   ]
  },
  {
   "cell_type": "code",
   "execution_count": 0,
   "metadata": {
    "colab": {},
    "colab_type": "code",
    "id": "VeA3fllZJkuW"
   },
   "outputs": [],
   "source": []
  },
  {
   "cell_type": "code",
   "execution_count": 0,
   "metadata": {
    "colab": {},
    "colab_type": "code",
    "id": "GC4xL7T2JkuX"
   },
   "outputs": [],
   "source": []
  },
  {
   "cell_type": "code",
   "execution_count": 0,
   "metadata": {
    "colab": {},
    "colab_type": "code",
    "id": "_nduNsrIJkuX"
   },
   "outputs": [],
   "source": []
  },
  {
   "cell_type": "code",
   "execution_count": 0,
   "metadata": {
    "colab": {},
    "colab_type": "code",
    "id": "R2a8KdLPJkuZ"
   },
   "outputs": [],
   "source": []
  },
  {
   "cell_type": "code",
   "execution_count": 0,
   "metadata": {
    "colab": {},
    "colab_type": "code",
    "id": "SYyLUCibJkua"
   },
   "outputs": [],
   "source": []
  },
  {
   "cell_type": "code",
   "execution_count": 0,
   "metadata": {
    "colab": {},
    "colab_type": "code",
    "id": "ltYFce7KJkub"
   },
   "outputs": [],
   "source": []
  }
 ],
 "metadata": {
  "colab": {
   "name": "Python3 101.ipynb",
   "provenance": []
  },
  "kernelspec": {
   "display_name": "Python 3",
   "language": "python",
   "name": "python3"
  },
  "language_info": {
   "codemirror_mode": {
    "name": "ipython",
    "version": 3
   },
   "file_extension": ".py",
   "mimetype": "text/x-python",
   "name": "python",
   "nbconvert_exporter": "python",
   "pygments_lexer": "ipython3",
   "version": "3.7.4"
  }
 },
 "nbformat": 4,
 "nbformat_minor": 1
}
